{
  "cells": [
    {
      "cell_type": "code",
      "execution_count": 28,
      "metadata": {
        "id": "CD-wolWfT4eU"
      },
      "outputs": [],
      "source": [
        "import numpy as np\n",
        "import matplotlib.pyplot as plt\n",
        "import sklearn.preprocessing as sklpre\n",
        "import pandas as pd\n",
        "from keras.datasets import boston_housing\n",
        "from sklearn import datasets\n",
        "from tensorflow.keras.utils import to_categorical\n"
      ]
    },
    {
      "cell_type": "markdown",
      "metadata": {
        "id": "b2x_WwjhT4eZ"
      },
      "source": [
        "# 1. Matrices, Gradients, Hessians\n",
        "\n",
        "Given the function $f(x1, x2) = (1 - x_1)^2 + 5 (x_2 - x_1^2)^2$, compute:\n",
        "\n",
        "$(1 - x_1)^2 = 1 - 2x_1 +2x_1^2$\n",
        "\n",
        "$5(x_2 - x_1^2)^2 = 5x_2^2 - 10x_1^2x_2 + 5x_1^2 $\n",
        "\n",
        "$f(x_1, x_2) = 1 - 2x_1 +2x_1^2 + 5x_2^2 - 10x_1^2x_2 + 5x_1^2$\n",
        "\n",
        " $ = 1-2x_1 +7 x_1^2 + 5x_2^2 - 10x_1^2x_2 $"
      ]
    },
    {
      "cell_type": "markdown",
      "metadata": {
        "id": "1E1PoffuT4eZ"
      },
      "source": [
        "### a) Gradient $\\nabla f(1, 1)$\n",
        "$\\nabla f(x_1, x_2) = (20x_1^3-20x_1x_2+2x_1-2)i + (10x_2 - 10x_1^2)j$\n",
        "\n",
        "$\\nabla f(1, 1) = <0,0>$"
      ]
    },
    {
      "cell_type": "markdown",
      "metadata": {
        "id": "bt9rRoB8T4eZ"
      },
      "source": [
        "### b) Hessian $\\nabla^2 f(1, 1)$\n",
        "\n",
        "$∇^2f(x_1, x_2) = \\begin{bmatrix}\n",
        "40x_1^2-20(x_2-x_1^2)+2 &\n",
        "-20x_1 \\\\\n",
        "-20x_1 &\n",
        "10\n",
        "\\end{bmatrix}$\n",
        "\n",
        "$∇^2f(1, 1) = \\begin{bmatrix}\n",
        "42 &\n",
        "-20\\\\\n",
        "-20 &\n",
        "10\n",
        "\\end{bmatrix}$"
      ]
    },
    {
      "cell_type": "markdown",
      "metadata": {
        "id": "1hWIhykkT4eZ"
      },
      "source": [
        "### c) Is the hessian positive definite? Why? $p^T H p > 0$\n",
        "No because one of the eigenvalues is negative"
      ]
    },
    {
      "cell_type": "markdown",
      "metadata": {
        "id": "0F6bbxIKT4eZ"
      },
      "source": [
        "# 0. Implementing 'Package' Supporting Functions"
      ]
    },
    {
      "cell_type": "code",
      "execution_count": 29,
      "metadata": {
        "id": "ckN2vhV7T4ea"
      },
      "outputs": [],
      "source": [
        "def relu(x):\n",
        "  \"\"\"Computes relu of function.\"\"\"\n",
        "  return x * (x >= 0)\n",
        "\n",
        "\n",
        "def sigmoid(x):\n",
        "  \"\"\"Computes sigmoid of function.\"\"\"\n",
        "  return 1 / (1 + np.exp(-x))\n",
        "\n",
        "def linear(x):\n",
        "  \"\"\"Return linear function of itself.\"\"\"\n",
        "  return x\n",
        "\n",
        "def d_linear(x):\n",
        "    return np.ones_like(x)\n",
        "\n",
        "def d_sigmoid(x):\n",
        "    return sigmoid(x) * (1 - sigmoid(x))\n",
        "\n",
        "def d_relu(x):\n",
        "    return (x >= 0).astype(np.float32)\n",
        "\n",
        "activations = {\n",
        "    \"linear\": linear,\n",
        "    \"relu\": relu,\n",
        "    \"sigmoid\": sigmoid\n",
        "}\n",
        "\n",
        "d_activations = {\n",
        "    \"linear\": d_linear,\n",
        "    \"relu\": d_relu,\n",
        "    \"sigmoid\": d_sigmoid\n",
        "}"
      ]
    },
    {
      "cell_type": "code",
      "execution_count": 30,
      "metadata": {
        "id": "O7-kKkiST4ea"
      },
      "outputs": [],
      "source": [
        "def initialize_weights(shapes, outputs):\n",
        "    \"\"\"Initializes weights of model according to shape.\n",
        "     Args:\n",
        "       shapes = [784, 300, 10]\n",
        "       outputs = [\"linear\", \"sigmoid\"]\n",
        "     returns:\n",
        "       model with uniform random weights [-1,+1], zero bias and output function\n",
        "       [\n",
        "        [random(784, 300), zeros(300), \"linear\"]\n",
        "        [random(300, 10), zeros(10), \"sigmoid\"]\n",
        "      ]\n",
        "    \"\"\"\n",
        "    # do your code here\n",
        "    retModels = []\n",
        "    for shape_ind in range(1, len(shapes)):\n",
        "      retModels.append([np.random.uniform(-1, 1, (shapes[shape_ind-1], shapes[shape_ind])),\n",
        "                        np.zeros(shapes[shape_ind]).reshape(1, shapes[shape_ind]),\n",
        "                        outputs[shape_ind-1]])\n",
        "    return retModels\n",
        "\n",
        "# model = initialize_weights([4, 10, 3], ['sigmoid', 'sigmoid'])\n",
        "# [[w1, b1, 'sigmoid'], [w2, b2, 'sigmoid']]"
      ]
    },
    {
      "cell_type": "code",
      "execution_count": 31,
      "metadata": {
        "id": "f9ZLBrL3T4ea"
      },
      "outputs": [],
      "source": [
        "def forward(x, model):\n",
        "    \"\"\"Performs forward pass of training step.\n",
        "\n",
        "     Args:\n",
        "       x: input tensor of shape (B, N0)\n",
        "       model: list of model weights (see initialize weights)\n",
        "     Returns:\n",
        "       List containing dictionary { \"y\": y, \"z\": z } for each layer of network.\n",
        "       [{\"y\": y1, \"z\": z1}, {\"y\": y2, \"z\": z2}]\n",
        "    \"\"\"\n",
        "    result = [{\"z\":x, \"y\":x}]\n",
        "    y = x\n",
        "    for layer in model:\n",
        "      # layer = [ w[i], b[i], 'relu']\n",
        "      z = np.dot(y, layer[0]) + layer[1]  # (B,N1) + (N1,N2)\n",
        "      y = activations[layer[2]](z)\n",
        "      result.append({'y': y, 'z': z})\n",
        "\n",
        "    return result\n"
      ]
    },
    {
      "cell_type": "code",
      "execution_count": 32,
      "metadata": {
        "id": "yvng71PBT4ea"
      },
      "outputs": [],
      "source": [
        "def predict(x, model):\n",
        "  \"\"\"Predicts the output of a model.\n",
        "\n",
        "     Args:\n",
        "       x: input tensor of shape (B, Ni)\n",
        "       model: list of model weights (see initialize weights)\n",
        "     Returns:\n",
        "       Prediction of model, with the same shape as the labeled data (B, No).\n",
        "  \"\"\"\n",
        "  fwd = forward(x, model)\n",
        "  return fwd[-1][\"y\"]"
      ]
    },
    {
      "cell_type": "code",
      "execution_count": 33,
      "metadata": {
        "id": "t6yBszO_T4ea"
      },
      "outputs": [],
      "source": [
        "def backward(y, x, model, loss):\n",
        "  \"\"\"Computes backward step of training.\n",
        "     Args:\n",
        "       y: labeled data of size (B, No)\n",
        "       x: input tensor of shape (B, Ni)\n",
        "       model: list of model weights (see initialize weights)\n",
        "       loss: one of (\"mse\", \"binary_crossentropy\")\n",
        "     Returns:\n",
        "       tuple with loss evaluation of (y, predict(x)) and list of dictionary\n",
        "       containing { \"dw\": dw, \"db\": db } for each layer of network. Remember\n",
        "       that shape of dw for each layer should be equal to shape of weight for\n",
        "       the same layer.\n",
        "       [{\"dw\": dw1, \"db\": db1}, {\"dw\": dw2, \"db\": db2}]\n",
        "  \"\"\"\n",
        "  weights = []\n",
        "  y = y.reshape(x[-1][\"y\"].shape)\n",
        "\n",
        "  if loss == \"mse\":\n",
        "    loss_eval = mse(y, x[-1][\"y\"])\n",
        "    dY = x[-1][\"y\"] - y\n",
        "  else:\n",
        "    loss_eval = binary_crossentropy(y, x[-1][\"y\"])\n",
        "    dY = -((y / x[-1][\"y\"]) - np.divide(1-y, 1-x[-1][\"y\"]))\n",
        "\n",
        "  for i, model in reversed(list(enumerate(model))):\n",
        "    new_dY = dY\n",
        "    old_y = x[i][\"y\"]\n",
        "\n",
        "    if model[2] == \"linear\":\n",
        "      # Linear\n",
        "      dZ = new_dY\n",
        "    elif model[2] == \"relu\":\n",
        "      # Relu\n",
        "      copy = x[i + 1][\"z\"]\n",
        "      copy[copy <= 0] = 0\n",
        "      copy[copy > 0] = 1\n",
        "      dZ = copy\n",
        "    else:\n",
        "      # Sigmoid\n",
        "      dZ = sigmoid(x[i + 1][\"z\"]) * (1 - sigmoid(x[i + 1][\"z\"]))\n",
        "\n",
        "    dW = np.dot(old_y.T, dZ)/(y.shape[0])\n",
        "    dB = np.sum(dZ, axis=0, keepdims=True)/(y.shape[0])\n",
        "    old_dY = np.dot(dZ, model[0].T)\n",
        "\n",
        "    weights.insert(0, {\"dw\": dW, \"db\" :dB})\n",
        "\n",
        "  return (loss_eval, weights)"
      ]
    },
    {
      "cell_type": "code",
      "execution_count": 34,
      "metadata": {
        "id": "cjl2KX3mT4ea"
      },
      "outputs": [],
      "source": [
        "def update(weights, dweights, alpha):\n",
        "  \"\"\"Gradient descent for weights and biases.\"\"\"\n",
        "  for i in range(len(weights)):\n",
        "    weights[i][0] += - alpha * dweights[i][\"dw\"]\n",
        "    weights[i][1] += - alpha * dweights[i][\"db\"]"
      ]
    },
    {
      "cell_type": "code",
      "execution_count": 35,
      "metadata": {
        "id": "Z59KJU-vT4ea"
      },
      "outputs": [],
      "source": [
        "def mse(y, p):\n",
        "  \"\"\"Computes Mean-Square Error between y and p.\n",
        "     Args:\n",
        "       y: labeled data of size (B, No)\n",
        "       p: predicted label of size (B, No)\n",
        "     Returns:\n",
        "       MSE of y-p\n",
        "  \"\"\"\n",
        "  assert p.shape == y.shape\n",
        "  return np.mean((y - p)**2)\n",
        "\n",
        "def binary_crossentropy(y, p):\n",
        "    \"\"\"Computes binary crossentropy between y and p.\n",
        "       Args:\n",
        "         y: labeled data of size (B, No)\n",
        "         p: predicted label of size (B, No)\n",
        "       Returns:\n",
        "         BCE of (y, p) = mean(sum(-y * log(p) - (1-y) * log(1-p)))\n",
        "    \"\"\"\n",
        "    epsilon = 1e-15  # Small constant to avoid numerical instability when taking logarithms\n",
        "    p = np.clip(p, epsilon, 1 - epsilon)  # Clip predicted values to avoid taking the log of zero or one\n",
        "    bce = - (y * np.log(p) + (1 - y) * np.log(1 - p))  # Corrected binary cross-entropy formula\n",
        "    return np.mean(np.sum(bce, axis=1))\n",
        "\n"
      ]
    },
    {
      "cell_type": "markdown",
      "metadata": {
        "id": "oUhLgN_jT4eb"
      },
      "source": [
        "# 1. Creating and Training Linear Regression on Boston Dataset"
      ]
    },
    {
      "cell_type": "code",
      "execution_count": 36,
      "metadata": {
        "id": "QME96JiFT4eb"
      },
      "outputs": [],
      "source": [
        "def load_data():\n",
        "  (x_train, y_train), (x_test, y_test) = boston_housing.load_data()\n",
        "\n",
        "  # condition data to be in a format you need to use\n",
        "  x_train = sklpre.normalize(x_train, norm='max', axis=0)\n",
        "  x_test = sklpre.normalize(x_test, norm='max', axis=0)\n",
        "  return (x_train, y_train), (x_test, y_test)"
      ]
    },
    {
      "cell_type": "code",
      "execution_count": 37,
      "metadata": {
        "colab": {
          "base_uri": "https://localhost:8080/",
          "height": 472
        },
        "id": "sU4JN324T4eb",
        "outputId": "9274f8ce-5814-4c7e-dba8-e06a539c4613"
      },
      "outputs": [
        {
          "output_type": "display_data",
          "data": {
            "text/plain": [
              "<Figure size 640x480 with 1 Axes>"
            ],
            "image/png": "[encoded data removed]"
          },
          "metadata": {}
        }
      ],
      "source": [
        "def check_data_preprocessing(x_train, y_train, x_test, y_test):\n",
        "    # Check the shapes of input data\n",
        "    print(\"Shapes of input data:\")\n",
        "    print(f\"x_train shape: {x_train.shape}\")\n",
        "    print(f\"y_train shape: {y_train.shape}\")\n",
        "    print(f\"x_test shape: {x_test.shape}\")\n",
        "    print(f\"y_test shape: {y_test.shape}\")\n",
        "\n",
        "    # Check for any NaN or missing values in the data\n",
        "    print(\"\\nChecking for NaN or missing values:\")\n",
        "    if np.isnan(x_train).any() or np.isnan(y_train).any() or np.isnan(x_test).any() or np.isnan(y_test).any():\n",
        "        print(\"Warning: Data contains NaN or missing values.\")\n",
        "    else:\n",
        "        print(\"   Data does not contain NaN or missing values.\")\n",
        "\n",
        "    # Check data normalization (mean should be close to 0, standard deviation close to 1)\n",
        "    print(\"\\nChecking data normalization:\")\n",
        "    print(f\"x_train mean: {np.mean(x_train)}\")\n",
        "    print(f\"x_train std: {np.std(x_train)}\")\n",
        "    print(f\"x_test mean: {np.mean(x_test)}\")\n",
        "    print(f\"x_test std: {np.std(x_test)}\")\n",
        "def train_network():\n",
        "\n",
        "  (x_train, y_train), (x_test, y_test) = load_data();\n",
        "\n",
        "  # linear network\n",
        "  # plot training and test loss over time in jupyter notebook\n",
        "  losses = [];\n",
        "\n",
        "  shapes = [x_train.shape[1], 1];\n",
        "  outputs = [\"linear\"];\n",
        "  model = initialize_weights(shapes, outputs);\n",
        "\n",
        "  # what's the alpha you should use?\n",
        "\n",
        "  alpha = 0.4;\n",
        "\n",
        "  for i in range(300):\n",
        "    fwd_results = forward(x_train, model);\n",
        "    loss, dweights = backward(y_train, fwd_results, model, \"mse\");\n",
        "    update(model, dweights, alpha);\n",
        "    losses.append(loss);\n",
        "\n",
        "\n",
        "  # Test\n",
        "  ftest = forward(x_test, model)\n",
        "  test_loss = backward(y_test, ftest, model, \"mse\")\n",
        "\n",
        "\n",
        "  # Plot\n",
        "  fig, ax = plt.subplots()\n",
        "  time = np.arange(0, 300, 1)\n",
        "  ax.plot(time, losses)\n",
        "  plt.axhline(y=test_loss[0], color='red')\n",
        "  plt.title(\"Loss Graph\")\n",
        "  plt.ylabel(\"MSE\")\n",
        "  plt.xlabel(\"Epochs\")\n",
        "  plt.legend([\"Train Loss\", \"Test Loss\"])\n",
        "\n",
        "\n",
        "\n",
        "train_network();\n"
      ]
    },
    {
      "cell_type": "markdown",
      "metadata": {
        "id": "W0mNyPeyT4eb"
      },
      "source": [
        "- Change training function to collect training and test loss"
      ]
    },
    {
      "cell_type": "markdown",
      "metadata": {
        "id": "PDlz8nr8T4eb"
      },
      "source": [
        "# 2. Classification on Iris Dataset"
      ]
    },
    {
      "cell_type": "code",
      "execution_count": 38,
      "metadata": {
        "id": "t3D5lt9ST4eb"
      },
      "outputs": [],
      "source": [
        "import sklearn\n",
        "from sklearn.model_selection import train_test_split\n",
        "\n",
        "def load_iris():\n",
        "  iris = datasets.load_iris()\n",
        "  x = iris.data.astype(np.float32)\n",
        "  y = iris.target\n",
        "\n",
        "  y = to_categorical(y, np.max(y)+1).astype(np.float32)\n",
        "\n",
        "  # (B,) -> {0, 1, 2}\n",
        "  # (B, 3) -> 0 -> y[:, 0] = 1, 1 -> y[:, 1] = 1\n",
        "\n",
        "  # need to do conditioning on the dataset\n",
        "  # Will use test train split in sklearn\n",
        "\n",
        "  x_train, x_test, y_train, y_test = train_test_split(x, y)\n",
        "  x_train = sklpre.normalize(x_train, norm='max', axis=0)\n",
        "  x_test = sklpre.normalize(x_test, norm='max', axis=0)\n",
        "\n",
        "  return (x_train, y_train), (x_test, y_test)"
      ]
    },
    {
      "cell_type": "code",
      "execution_count": 39,
      "metadata": {
        "id": "sg_fWFbiT4eb",
        "colab": {
          "base_uri": "https://localhost:8080/",
          "height": 982
        },
        "outputId": "a4b58689-46c1-492b-dc2a-9a005c46c85b"
      },
      "outputs": [
        {
          "output_type": "stream",
          "name": "stdout",
          "text": [
            "[4, 30, 10, 3]\n",
            "[0.30357, 0.30357, 0.30357, 0.30357, 0.30357, 0.30357, 0.30357, 0.30357, 0.30357, 0.30357, 0.30357, 0.30357, 0.28571, 0.28571, 0.26786, 0.25893, 0.26786, 0.28571, 0.29464, 0.30357, 0.30357, 0.30357, 0.30357, 0.30357, 0.30357, 0.30357, 0.30357, 0.30357, 0.30357, 0.30357, 0.30357, 0.30357, 0.32143, 0.33929, 0.33929, 0.33036, 0.32143, 0.32143, 0.32143, 0.3125, 0.3125, 0.3125, 0.3125, 0.30357, 0.30357, 0.30357, 0.30357, 0.30357, 0.30357, 0.30357, 0.30357, 0.30357, 0.30357, 0.30357, 0.30357, 0.30357, 0.30357, 0.30357, 0.30357, 0.30357, 0.30357, 0.30357, 0.30357, 0.30357, 0.30357, 0.30357, 0.30357, 0.30357, 0.30357, 0.30357, 0.30357, 0.30357, 0.30357, 0.30357, 0.30357, 0.30357, 0.30357, 0.30357, 0.30357, 0.30357, 0.30357, 0.30357, 0.30357, 0.30357, 0.30357, 0.30357, 0.30357, 0.30357, 0.30357, 0.30357, 0.30357, 0.30357, 0.30357, 0.30357, 0.30357, 0.30357, 0.30357, 0.30357, 0.30357, 0.30357]\n"
          ]
        },
        {
          "output_type": "display_data",
          "data": {
            "text/plain": [
              "<Figure size 640x480 with 1 Axes>"
            ],
            "image/png": "[encoded data removed]"
          },
          "metadata": {}
        },
        {
          "output_type": "display_data",
          "data": {
            "text/plain": [
              "<Figure size 640x480 with 1 Axes>"
            ],
            "image/png": "[encoded data removed]"
          },
          "metadata": {}
        }
      ],
      "source": [
        "def accuracy(y, p): # (B, 3)\n",
        "    # y = (1, 0, 0), p = (0.2, 0.5, 0.3)\n",
        "    # y = 0, p = 1\n",
        "    return np.mean(np.argmax(y, axis=-1) == np.argmax(p, axis=-1))\n",
        "\n",
        "def train_network():\n",
        "  (x_train, y_train), (x_test, y_test) = load_iris()\n",
        "\n",
        "  # example of network. try your own to get higher accuracy\n",
        "  # plot training and test loss over time in jupyter notebook\n",
        "  # plot training and test accuracy over time in jupyter notebook\n",
        "\n",
        "  outputs = [\"relu\", \"relu\", \"sigmoid\"]\n",
        "  shapes = [x_train.shape[1], 30, 10, y_train.shape[1]]\n",
        "  losses = []\n",
        "  acc = []\n",
        "  print(shapes)\n",
        "\n",
        "  # which alpha should you use?\n",
        "\n",
        "  alpha = 0.02\n",
        "  model = initialize_weights(shapes, outputs)\n",
        "  truth = np.argmax(y_train, axis=1)\n",
        "\n",
        "  # Added extra epochs as higher training rates caused oscillation\n",
        "  for i in range(100):\n",
        "    fwd_res = forward(x_train, model)\n",
        "    loss, dweights = backward(y_train, fwd_res, model, \"binary_crossentropy\")\n",
        "    update(model, dweights, alpha)\n",
        "    losses.append(loss)\n",
        "\n",
        "    acc.append(np.around(np.divide(np.sum(np.argmax(predict(x_train, model),\n",
        "                                      axis=1)==truth), truth.shape[0]), decimals=5))\n",
        "\n",
        "\n",
        "  print(acc)\n",
        "  # Test\n",
        "  test_res = forward(x_test, model)\n",
        "  test_loss = backward(y_test, test_res, model, \"binary_crossentropy\")\n",
        "    # Pred\n",
        "  test_pred = np.argmax(test_res[-1][\"y\"], axis=1)\n",
        "  test_truth = np.argmax(y_test, axis=1)\n",
        "  test_acc = np.around(np.divide(np.sum(test_pred==test_truth), test_truth.shape[0]),decimals=5)\n",
        "\n",
        "\n",
        "  # Plot - Losses\n",
        "  fig, ax = plt.subplots()\n",
        "  time = np.arange(0, 100, 1)\n",
        "  ax.plot(time, losses)\n",
        "  plt.axhline(y=np.mean(test_loss[0]), color='red')\n",
        "  plt.title(\"Loss Graph\")\n",
        "  plt.ylabel(\"MSE\")\n",
        "  plt.xlabel(\"Epochs\")\n",
        "  plt.legend([\"Train Loss\", \"Test Loss\"])\n",
        "\n",
        "  # Plot - Accuracy\n",
        "  fig, ax = plt.subplots()\n",
        "  time = np.arange(0, 100, 1)\n",
        "  ax.plot(time, acc)\n",
        "  plt.axhline(y=test_acc, color='red')\n",
        "  plt.title(\"Accuracy Graph\")\n",
        "  plt.ylabel(\"Acc\")\n",
        "  plt.xlabel(\"Epochs\")\n",
        "  plt.legend([\"Train Acc\", \"Test Acc\"])\n",
        "train_network()"
      ]
    },
    {
      "cell_type": "markdown",
      "metadata": {
        "id": "gGrZopg3T4eb"
      },
      "source": [
        "# 3. Packages These Days Use Automatic Differentiation Like AutoGrad"
      ]
    },
    {
      "cell_type": "code",
      "execution_count": 40,
      "metadata": {
        "id": "dAHIi-ipT4eb"
      },
      "outputs": [],
      "source": [
        "import autograd.numpy as np\n",
        "from autograd import elementwise_grad as grad"
      ]
    },
    {
      "cell_type": "code",
      "execution_count": 41,
      "metadata": {
        "id": "xWjNGa5kT4eb",
        "colab": {
          "base_uri": "https://localhost:8080/"
        },
        "outputId": "0dcd4430-fc24-41e3-b29d-9d6ec58180c5"
      },
      "outputs": [
        {
          "output_type": "execute_result",
          "data": {
            "text/plain": [
              "array([0., 1., 2., 3., 4., 5.], dtype=float32)"
            ]
          },
          "metadata": {},
          "execution_count": 41
        }
      ],
      "source": [
        "x = np.arange(6).astype(np.float32)\n",
        "x"
      ]
    },
    {
      "cell_type": "code",
      "execution_count": 42,
      "metadata": {
        "id": "H2v7D2E-T4ec"
      },
      "outputs": [],
      "source": [
        "def f(x):\n",
        "    return 3.0 * np.power(x, 2) + 5.0 * x - 4.0"
      ]
    },
    {
      "cell_type": "code",
      "execution_count": 43,
      "metadata": {
        "id": "FOk_s0OCT4ec"
      },
      "outputs": [],
      "source": [
        "grad_f = grad(f)"
      ]
    },
    {
      "cell_type": "code",
      "execution_count": 44,
      "metadata": {
        "scrolled": true,
        "id": "su4zYGQuT4ec",
        "colab": {
          "base_uri": "https://localhost:8080/"
        },
        "outputId": "ce21d853-0614-4051-8269-2056cb2103f6"
      },
      "outputs": [
        {
          "output_type": "execute_result",
          "data": {
            "text/plain": [
              "array([ 5., 11., 17., 23., 29., 35.], dtype=float32)"
            ]
          },
          "metadata": {},
          "execution_count": 44
        }
      ],
      "source": [
        "grad_f(x)"
      ]
    },
    {
      "cell_type": "code",
      "execution_count": 45,
      "metadata": {
        "id": "tDVdfNW8T4ec",
        "colab": {
          "base_uri": "https://localhost:8080/"
        },
        "outputId": "6f957a99-b854-42d7-f114-f424ac1f74e4"
      },
      "outputs": [
        {
          "output_type": "execute_result",
          "data": {
            "text/plain": [
              "array([ 4.9999833, 11.000013 , 17.000008 , 22.999954 , 29.000473 ,\n",
              "       35.001373 ], dtype=float32)"
            ]
          },
          "metadata": {},
          "execution_count": 45
        }
      ],
      "source": [
        "(f(x + 0.01) - f(x - 0.01)) / 0.02"
      ]
    },
    {
      "cell_type": "markdown",
      "metadata": {
        "id": "_GNK20uET4ec"
      },
      "source": [
        "Now reimplement the `forward` and `backward` function using AutoGrad. We will give as example the example on how autograd facilitates computation of gradients."
      ]
    },
    {
      "cell_type": "markdown",
      "metadata": {
        "id": "kOXecQoET4ec"
      },
      "source": [
        "Comments:\n",
        "\n",
        "1. I said in the class to always check the shapes to see the operations. dw and w have transposed shapes.\n",
        "2. If you look at the notes, you will see that y's and z's have the same shape\n",
        "3. If you need to debug on the fly, put the following line in the code. You can search on the web but basically, you can do step by step computation with pdb.\n",
        "\n",
        "```python\n",
        "import pdb; pdb.set_trace()\n",
        "```"
      ]
    },
    {
      "cell_type": "code",
      "source": [
        "!pip install autograd"
      ],
      "metadata": {
        "colab": {
          "base_uri": "https://localhost:8080/"
        },
        "id": "QHX7fzlpzwXw",
        "outputId": "748c0c0a-10e1-49f7-9adb-d1ffa5329b9d"
      },
      "execution_count": 46,
      "outputs": [
        {
          "output_type": "stream",
          "name": "stdout",
          "text": [
            "Requirement already satisfied: autograd in /usr/local/lib/python3.10/dist-packages (1.6.2)\n",
            "Requirement already satisfied: numpy>=1.12 in /usr/local/lib/python3.10/dist-packages (from autograd) (1.23.5)\n",
            "Requirement already satisfied: future>=0.15.2 in /usr/local/lib/python3.10/dist-packages (from autograd) (0.18.3)\n"
          ]
        }
      ]
    },
    {
      "cell_type": "code",
      "source": [
        "import autograd.numpy as np\n",
        "from autograd import grad\n",
        "from autograd import elementwise_grad as egrad\n",
        "\n",
        "def forward(x, model):\n",
        "    result = [{\"z\": x, \"y\": x}]\n",
        "    y = x\n",
        "    for layer in model:\n",
        "        # layer = [ w[i], b[i], 'relu']\n",
        "        z = np.dot(y, layer[0]) + layer[1]  # (B,N1) + (N1,N2)\n",
        "        y = activations[layer[2]](z)\n",
        "        result.append({'y': y, 'z': z})\n",
        "    return result\n",
        "\n",
        "def backward(y, x, model, loss_fn):\n",
        "    def mse(y_true, y_pred):\n",
        "        return np.mean((y_true - y_pred) ** 2)\n",
        "    def binary_crossentropy(y_true, y_pred):\n",
        "        epsilon = 1e-15\n",
        "        y_pred = np.clip(y_pred, epsilon, 1 - epsilon)\n",
        "        return - (y_true * np.log(y_pred) + (1 - y_true) * np.log(1 - y_pred))\n",
        "    def loss(y_true, y_pred):\n",
        "        if loss_fn == \"mse\":\n",
        "            return mse(y_true, y_pred)\n",
        "        elif loss_fn == \"binary_crossentropy\":\n",
        "            return np.mean(binary_crossentropy(y_true, y_pred))\n",
        "\n",
        "    loss_grad = grad(loss)\n",
        "    weights = []\n",
        "    y = y.reshape(x[-1][\"y\"].shape)\n",
        "\n",
        "    loss_eval = loss(y, x[-1][\"y\"])\n",
        "    dY = loss_grad(y, x[-1][\"y\"])\n",
        "\n",
        "    for i, layer in reversed(list(enumerate(model))):\n",
        "        new_dY = dY\n",
        "        old_y = x[i][\"y\"]\n",
        "        if layer[2] == \"linear\":\n",
        "            dZ = new_dY\n",
        "        elif layer[2] == \"relu\":\n",
        "            dZ = egrad(lambda x: np.maximum(0, x))(x[i + 1][\"z\"])\n",
        "        else:\n",
        "            dZ = sigmoid(x[i + 1][\"z\"]) * (1 - sigmoid(x[i + 1][\"z\"]))\n",
        "        dW = np.dot(old_y.T, dZ) / y.shape[0]\n",
        "        dB = np.sum(dZ, axis=0, keepdims=True) / y.shape[0]\n",
        "        old_dY = np.dot(dZ, layer[0].T)\n",
        "        weights.insert(0, {\"dw\": dW, \"db\": dB})\n",
        "    return (loss_eval, weights)\n",
        "\n",
        "train_network();"
      ],
      "metadata": {
        "colab": {
          "base_uri": "https://localhost:8080/",
          "height": 982
        },
        "id": "Y_WDh1kPzzPB",
        "outputId": "cc9470c4-118b-4b48-e5ee-ca7a64721fc2"
      },
      "execution_count": 47,
      "outputs": [
        {
          "output_type": "stream",
          "name": "stdout",
          "text": [
            "[4, 30, 10, 3]\n",
            "[0.35714, 0.55357, 0.59821, 0.63393, 0.63393, 0.57143, 0.58036, 0.60714, 0.61607, 0.64286, 0.65179, 0.65179, 0.65179, 0.65179, 0.65179, 0.65179, 0.65179, 0.65179, 0.65179, 0.65179, 0.64286, 0.64286, 0.64286, 0.64286, 0.64286, 0.63393, 0.63393, 0.61607, 0.625, 0.625, 0.63393, 0.625, 0.60714, 0.5625, 0.54464, 0.47321, 0.44643, 0.41964, 0.40179, 0.38393, 0.375, 0.375, 0.375, 0.375, 0.375, 0.375, 0.375, 0.375, 0.375, 0.375, 0.375, 0.36607, 0.36607, 0.36607, 0.36607, 0.36607, 0.36607, 0.35714, 0.35714, 0.35714, 0.35714, 0.34821, 0.34821, 0.34821, 0.34821, 0.34821, 0.34821, 0.34821, 0.34821, 0.34821, 0.34821, 0.34821, 0.34821, 0.34821, 0.34821, 0.34821, 0.34821, 0.34821, 0.34821, 0.34821, 0.34821, 0.34821, 0.34821, 0.34821, 0.34821, 0.34821, 0.34821, 0.34821, 0.34821, 0.34821, 0.34821, 0.34821, 0.34821, 0.35714, 0.35714, 0.35714, 0.35714, 0.35714, 0.35714, 0.35714]\n"
          ]
        },
        {
          "output_type": "display_data",
          "data": {
            "text/plain": [
              "<Figure size 640x480 with 1 Axes>"
            ],
            "image/png": "[encoded data removed]"
          },
          "metadata": {}
        },
        {
          "output_type": "display_data",
          "data": {
            "text/plain": [
              "<Figure size 640x480 with 1 Axes>"
            ],
            "image/png": "[encoded data removed]"
          },
          "metadata": {}
        }
      ]
    }
  ],
  "metadata": {
    "kernelspec": {
      "display_name": "Python 3 (ipykernel)",
      "language": "python",
      "name": "python3"
    },
    "language_info": {
      "codemirror_mode": {
        "name": "ipython",
        "version": 3
      },
      "file_extension": ".py",
      "mimetype": "text/x-python",
      "name": "python",
      "nbconvert_exporter": "python",
      "pygments_lexer": "ipython3",
      "version": "3.8.8"
    },
    "colab": {
      "provenance": []
    }
  },
  "nbformat": 4,
  "nbformat_minor": 0
}