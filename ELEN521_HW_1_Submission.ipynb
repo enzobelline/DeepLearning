{
  "nbformat": 4,
  "nbformat_minor": 0,
  "metadata": {
    "colab": {
      "provenance": []
    },
    "kernelspec": {
      "name": "python3",
      "display_name": "Python 3"
    },
    "language_info": {
      "name": "python"
    }
  },
  "cells": [
    {
      "cell_type": "markdown",
      "source": [
        "## 2.1. Data Manipulation\n"
      ],
      "metadata": {
        "id": "C1HVkrTBdRCT"
      }
    },
    {
      "cell_type": "code",
      "execution_count": 79,
      "metadata": {
        "id": "utvwpy7AbpYe"
      },
      "outputs": [],
      "source": [
        "import torch"
      ]
    },
    {
      "cell_type": "code",
      "source": [
        "x = torch.arange(12, dtype=torch.float32)\n",
        "x"
      ],
      "metadata": {
        "colab": {
          "base_uri": "https://localhost:8080/"
        },
        "id": "4zL6YV8DbvfT",
        "outputId": "6187f768-05d6-4789-bff6-01655c20888a"
      },
      "execution_count": 80,
      "outputs": [
        {
          "output_type": "execute_result",
          "data": {
            "text/plain": [
              "tensor([ 0.,  1.,  2.,  3.,  4.,  5.,  6.,  7.,  8.,  9., 10., 11.])"
            ]
          },
          "metadata": {},
          "execution_count": 80
        }
      ]
    },
    {
      "cell_type": "code",
      "source": [
        "x.numel()"
      ],
      "metadata": {
        "colab": {
          "base_uri": "https://localhost:8080/"
        },
        "id": "8HoAAM0obviF",
        "outputId": "f58ea338-532b-4944-ea69-836b3607dd6a"
      },
      "execution_count": 81,
      "outputs": [
        {
          "output_type": "execute_result",
          "data": {
            "text/plain": [
              "12"
            ]
          },
          "metadata": {},
          "execution_count": 81
        }
      ]
    },
    {
      "cell_type": "code",
      "source": [
        "x.shape"
      ],
      "metadata": {
        "colab": {
          "base_uri": "https://localhost:8080/"
        },
        "id": "fTi5mcvqbvkN",
        "outputId": "8a585678-fe24-4a1f-b5ca-97812cab9d02"
      },
      "execution_count": 82,
      "outputs": [
        {
          "output_type": "execute_result",
          "data": {
            "text/plain": [
              "torch.Size([12])"
            ]
          },
          "metadata": {},
          "execution_count": 82
        }
      ]
    },
    {
      "cell_type": "code",
      "source": [
        "X = x.reshape(3, 4)\n",
        "X"
      ],
      "metadata": {
        "colab": {
          "base_uri": "https://localhost:8080/"
        },
        "id": "cYlg0b3abvn6",
        "outputId": "33c069ad-9345-43f3-e111-a8da73868e17"
      },
      "execution_count": 83,
      "outputs": [
        {
          "output_type": "execute_result",
          "data": {
            "text/plain": [
              "tensor([[ 0.,  1.,  2.,  3.],\n",
              "        [ 4.,  5.,  6.,  7.],\n",
              "        [ 8.,  9., 10., 11.]])"
            ]
          },
          "metadata": {},
          "execution_count": 83
        }
      ]
    },
    {
      "cell_type": "code",
      "source": [
        "torch.zeros((2, 3, 4))"
      ],
      "metadata": {
        "colab": {
          "base_uri": "https://localhost:8080/"
        },
        "id": "GoLbc_OWbvqj",
        "outputId": "ccf171e7-ee28-4489-8bf0-08bae8bd440e"
      },
      "execution_count": 84,
      "outputs": [
        {
          "output_type": "execute_result",
          "data": {
            "text/plain": [
              "tensor([[[0., 0., 0., 0.],\n",
              "         [0., 0., 0., 0.],\n",
              "         [0., 0., 0., 0.]],\n",
              "\n",
              "        [[0., 0., 0., 0.],\n",
              "         [0., 0., 0., 0.],\n",
              "         [0., 0., 0., 0.]]])"
            ]
          },
          "metadata": {},
          "execution_count": 84
        }
      ]
    },
    {
      "cell_type": "code",
      "source": [
        "torch.randn(3, 4)"
      ],
      "metadata": {
        "colab": {
          "base_uri": "https://localhost:8080/"
        },
        "id": "TSvs0X-Jb3vK",
        "outputId": "81486948-03c1-41eb-b7a1-0c79895cfd14"
      },
      "execution_count": 85,
      "outputs": [
        {
          "output_type": "execute_result",
          "data": {
            "text/plain": [
              "tensor([[-0.0812, -1.7875, -0.0046,  0.7750],\n",
              "        [ 0.3557, -0.2719,  1.3228, -0.0726],\n",
              "        [-0.1002, -0.7746, -1.1877,  0.8483]])"
            ]
          },
          "metadata": {},
          "execution_count": 85
        }
      ]
    },
    {
      "cell_type": "code",
      "source": [
        "x = torch.arange(12, dtype=torch.float32)\n",
        "x"
      ],
      "metadata": {
        "colab": {
          "base_uri": "https://localhost:8080/"
        },
        "id": "qUAeAV0jb3xe",
        "outputId": "b5885dac-283a-491c-c9a0-32193263f988"
      },
      "execution_count": 86,
      "outputs": [
        {
          "output_type": "execute_result",
          "data": {
            "text/plain": [
              "tensor([ 0.,  1.,  2.,  3.,  4.,  5.,  6.,  7.,  8.,  9., 10., 11.])"
            ]
          },
          "metadata": {},
          "execution_count": 86
        }
      ]
    },
    {
      "cell_type": "code",
      "source": [
        "torch.tensor([[2, 1, 4, 3], [1, 2, 3, 4], [4, 3, 2, 1]])"
      ],
      "metadata": {
        "colab": {
          "base_uri": "https://localhost:8080/"
        },
        "id": "qaX4o8Sxb3z2",
        "outputId": "8fcf96c9-4fd0-4b61-8e66-bf3b53c28f76"
      },
      "execution_count": 87,
      "outputs": [
        {
          "output_type": "execute_result",
          "data": {
            "text/plain": [
              "tensor([[2, 1, 4, 3],\n",
              "        [1, 2, 3, 4],\n",
              "        [4, 3, 2, 1]])"
            ]
          },
          "metadata": {},
          "execution_count": 87
        }
      ]
    },
    {
      "cell_type": "code",
      "source": [
        "X[-1], X[1:3]"
      ],
      "metadata": {
        "colab": {
          "base_uri": "https://localhost:8080/"
        },
        "id": "Xm4EuOpRb32O",
        "outputId": "3c0d9740-75c8-4f36-ccf3-9b19d1c798cb"
      },
      "execution_count": 88,
      "outputs": [
        {
          "output_type": "execute_result",
          "data": {
            "text/plain": [
              "(tensor([ 8.,  9., 10., 11.]),\n",
              " tensor([[ 4.,  5.,  6.,  7.],\n",
              "         [ 8.,  9., 10., 11.]]))"
            ]
          },
          "metadata": {},
          "execution_count": 88
        }
      ]
    },
    {
      "cell_type": "code",
      "source": [
        "X[1, 2] = 17\n",
        "X"
      ],
      "metadata": {
        "colab": {
          "base_uri": "https://localhost:8080/"
        },
        "id": "4HmC5YUOb333",
        "outputId": "7c3754e0-7f72-4f6d-dcf3-187894fd58ae"
      },
      "execution_count": 89,
      "outputs": [
        {
          "output_type": "execute_result",
          "data": {
            "text/plain": [
              "tensor([[ 0.,  1.,  2.,  3.],\n",
              "        [ 4.,  5., 17.,  7.],\n",
              "        [ 8.,  9., 10., 11.]])"
            ]
          },
          "metadata": {},
          "execution_count": 89
        }
      ]
    },
    {
      "cell_type": "code",
      "source": [
        "X[:2, :] = 12\n",
        "X"
      ],
      "metadata": {
        "colab": {
          "base_uri": "https://localhost:8080/"
        },
        "id": "nhUSyl9Jb37F",
        "outputId": "cf6dbf7c-4e2f-4b82-89ac-443db0cf9d54"
      },
      "execution_count": 90,
      "outputs": [
        {
          "output_type": "execute_result",
          "data": {
            "text/plain": [
              "tensor([[12., 12., 12., 12.],\n",
              "        [12., 12., 12., 12.],\n",
              "        [ 8.,  9., 10., 11.]])"
            ]
          },
          "metadata": {},
          "execution_count": 90
        }
      ]
    },
    {
      "cell_type": "code",
      "source": [
        "torch.exp(x)"
      ],
      "metadata": {
        "colab": {
          "base_uri": "https://localhost:8080/"
        },
        "id": "AjFvQj7Mb3_y",
        "outputId": "8178ec54-374e-4c80-907c-e6df5544908c"
      },
      "execution_count": 91,
      "outputs": [
        {
          "output_type": "execute_result",
          "data": {
            "text/plain": [
              "tensor([1.0000e+00, 2.7183e+00, 7.3891e+00, 2.0086e+01, 5.4598e+01, 1.4841e+02,\n",
              "        4.0343e+02, 1.0966e+03, 2.9810e+03, 8.1031e+03, 2.2026e+04, 5.9874e+04])"
            ]
          },
          "metadata": {},
          "execution_count": 91
        }
      ]
    },
    {
      "cell_type": "code",
      "source": [
        "x = torch.tensor([1.0, 2, 4, 8])\n",
        "y = torch.tensor([2, 2, 2, 2])\n",
        "x + y, x - y, x * y, x / y, x ** y"
      ],
      "metadata": {
        "colab": {
          "base_uri": "https://localhost:8080/"
        },
        "id": "jAxUmKNJb4By",
        "outputId": "28d51c73-5433-479c-94be-a980e0be4187"
      },
      "execution_count": 92,
      "outputs": [
        {
          "output_type": "execute_result",
          "data": {
            "text/plain": [
              "(tensor([ 3.,  4.,  6., 10.]),\n",
              " tensor([-1.,  0.,  2.,  6.]),\n",
              " tensor([ 2.,  4.,  8., 16.]),\n",
              " tensor([0.5000, 1.0000, 2.0000, 4.0000]),\n",
              " tensor([ 1.,  4., 16., 64.]))"
            ]
          },
          "metadata": {},
          "execution_count": 92
        }
      ]
    },
    {
      "cell_type": "code",
      "source": [
        "X = torch.arange(12, dtype=torch.float32).reshape((3,4))\n",
        "Y = torch.tensor([[2.0, 1, 4, 3], [1, 2, 3, 4], [4, 3, 2, 1]])\n",
        "torch.cat((X, Y), dim=0), torch.cat((X, Y), dim=1)"
      ],
      "metadata": {
        "colab": {
          "base_uri": "https://localhost:8080/"
        },
        "id": "Zuc1PBE8b4D1",
        "outputId": "3789bb97-7d80-4a40-f181-7afaca96fe5c"
      },
      "execution_count": 93,
      "outputs": [
        {
          "output_type": "execute_result",
          "data": {
            "text/plain": [
              "(tensor([[ 0.,  1.,  2.,  3.],\n",
              "         [ 4.,  5.,  6.,  7.],\n",
              "         [ 8.,  9., 10., 11.],\n",
              "         [ 2.,  1.,  4.,  3.],\n",
              "         [ 1.,  2.,  3.,  4.],\n",
              "         [ 4.,  3.,  2.,  1.]]),\n",
              " tensor([[ 0.,  1.,  2.,  3.,  2.,  1.,  4.,  3.],\n",
              "         [ 4.,  5.,  6.,  7.,  1.,  2.,  3.,  4.],\n",
              "         [ 8.,  9., 10., 11.,  4.,  3.,  2.,  1.]]))"
            ]
          },
          "metadata": {},
          "execution_count": 93
        }
      ]
    },
    {
      "cell_type": "code",
      "source": [
        "X == Y"
      ],
      "metadata": {
        "colab": {
          "base_uri": "https://localhost:8080/"
        },
        "id": "12abZC7nb4Gz",
        "outputId": "fcf343ef-3ce3-4f85-ba06-286711a21283"
      },
      "execution_count": 94,
      "outputs": [
        {
          "output_type": "execute_result",
          "data": {
            "text/plain": [
              "tensor([[False,  True, False,  True],\n",
              "        [False, False, False, False],\n",
              "        [False, False, False, False]])"
            ]
          },
          "metadata": {},
          "execution_count": 94
        }
      ]
    },
    {
      "cell_type": "code",
      "source": [
        "X.sum()"
      ],
      "metadata": {
        "colab": {
          "base_uri": "https://localhost:8080/"
        },
        "id": "M4M_VMTEcPXD",
        "outputId": "f73cd0d6-38af-4734-f257-a8957bbb458a"
      },
      "execution_count": 95,
      "outputs": [
        {
          "output_type": "execute_result",
          "data": {
            "text/plain": [
              "tensor(66.)"
            ]
          },
          "metadata": {},
          "execution_count": 95
        }
      ]
    },
    {
      "cell_type": "markdown",
      "source": [
        "2.1.4. Broadcasting\n"
      ],
      "metadata": {
        "id": "Ip1GHyZ7cSTo"
      }
    },
    {
      "cell_type": "code",
      "source": [
        "a = torch.arange(3).reshape((3, 1))\n",
        "b = torch.arange(2).reshape((1, 2))\n",
        "a, b\n",
        "a + b"
      ],
      "metadata": {
        "colab": {
          "base_uri": "https://localhost:8080/"
        },
        "id": "ceqdbDo5cSXH",
        "outputId": "438928e5-423d-48b5-c608-0aa60e17741f"
      },
      "execution_count": 96,
      "outputs": [
        {
          "output_type": "execute_result",
          "data": {
            "text/plain": [
              "tensor([[0, 1],\n",
              "        [1, 2],\n",
              "        [2, 3]])"
            ]
          },
          "metadata": {},
          "execution_count": 96
        }
      ]
    },
    {
      "cell_type": "markdown",
      "source": [
        "2.1.5. Saving Memory¶"
      ],
      "metadata": {
        "id": "nn-VzGxycctS"
      }
    },
    {
      "cell_type": "code",
      "source": [
        "before = id(Y)\n",
        "Y = Y + X\n",
        "id(Y) == before"
      ],
      "metadata": {
        "colab": {
          "base_uri": "https://localhost:8080/"
        },
        "id": "KOLmiwmPc4Tc",
        "outputId": "881ce0c9-4b06-4701-bf58-e8d1443915dc"
      },
      "execution_count": 97,
      "outputs": [
        {
          "output_type": "execute_result",
          "data": {
            "text/plain": [
              "False"
            ]
          },
          "metadata": {},
          "execution_count": 97
        }
      ]
    },
    {
      "cell_type": "code",
      "source": [
        "\n",
        "Z = torch.zeros_like(Y)\n",
        "print('id(Z):', id(Z))\n",
        "Z[:] = X + Y\n",
        "print('id(Z):', id(Z))\n",
        "before = id(X)\n",
        "X += Y\n",
        "id(X) == before"
      ],
      "metadata": {
        "colab": {
          "base_uri": "https://localhost:8080/"
        },
        "id": "8lt4tF1-ccw1",
        "outputId": "acb47c10-20ca-4485-c4bf-19dd9ab2cf6a"
      },
      "execution_count": 98,
      "outputs": [
        {
          "output_type": "stream",
          "name": "stdout",
          "text": [
            "id(Z): 137243045859376\n",
            "id(Z): 137243045859376\n"
          ]
        },
        {
          "output_type": "execute_result",
          "data": {
            "text/plain": [
              "True"
            ]
          },
          "metadata": {},
          "execution_count": 98
        }
      ]
    },
    {
      "cell_type": "markdown",
      "source": [
        "2.1.6. Conversion to Other Python Objects\n"
      ],
      "metadata": {
        "id": "mnk7BOFMcv2J"
      }
    },
    {
      "cell_type": "code",
      "source": [
        "A = X.numpy()\n",
        "B = torch.from_numpy(A)\n",
        "type(A), type(B)\n"
      ],
      "metadata": {
        "colab": {
          "base_uri": "https://localhost:8080/"
        },
        "id": "YgBNPmI4cv5L",
        "outputId": "620ea5de-9193-4b47-9989-6a15fbe072dc"
      },
      "execution_count": 99,
      "outputs": [
        {
          "output_type": "execute_result",
          "data": {
            "text/plain": [
              "(numpy.ndarray, torch.Tensor)"
            ]
          },
          "metadata": {},
          "execution_count": 99
        }
      ]
    },
    {
      "cell_type": "code",
      "source": [
        "\n",
        "a = torch.tensor([3.5])\n",
        "a, a.item(), float(a), int(a)"
      ],
      "metadata": {
        "colab": {
          "base_uri": "https://localhost:8080/"
        },
        "id": "cFwnDj4Xc2aZ",
        "outputId": "aa9ece94-6f2b-4de6-9444-ae5fde2bfa8a"
      },
      "execution_count": 100,
      "outputs": [
        {
          "output_type": "execute_result",
          "data": {
            "text/plain": [
              "(tensor([3.5000]), 3.5, 3.5, 3)"
            ]
          },
          "metadata": {},
          "execution_count": 100
        }
      ]
    },
    {
      "cell_type": "markdown",
      "source": [
        "1. Run the code in this section. Change the conditional statement X == Y to X < Y or X > Y, and then see what kind of tensor you can get.\n",
        "\n"
      ],
      "metadata": {
        "id": "SnKB7id8c_gh"
      }
    },
    {
      "cell_type": "code",
      "source": [
        "X = torch.arange(12, dtype=torch.float32).reshape((3,4))\n",
        "Y = torch.tensor([[2.0, 1, 4, 3], [1, 2, 3, 4], [4, 3, 2, 1]])\n",
        "X<Y"
      ],
      "metadata": {
        "colab": {
          "base_uri": "https://localhost:8080/"
        },
        "id": "p76R1LmA8ncE",
        "outputId": "25872ffd-f987-4bc7-da76-b4cdb19dae1f"
      },
      "execution_count": 132,
      "outputs": [
        {
          "output_type": "execute_result",
          "data": {
            "text/plain": [
              "tensor([[ True, False,  True, False],\n",
              "        [False, False, False, False],\n",
              "        [False, False, False, False]])"
            ]
          },
          "metadata": {},
          "execution_count": 132
        }
      ]
    },
    {
      "cell_type": "markdown",
      "source": [
        "2.Replace the two tensors that operate by element in the broadcasting mechanism with other shapes, e.g., 3-dimensional tensors. Is the result the same as expected?\n",
        "\n",
        "The result is as expected.\n"
      ],
      "metadata": {
        "id": "R-N2YWVR8nfm"
      }
    },
    {
      "cell_type": "code",
      "source": [
        "import torch\n",
        "\n",
        "a = torch.arange(24).reshape((2, 3, 4))  # Shape (2, 3, 4)\n",
        "b = torch.arange(8).reshape((2, 1, 4))   # Shape (2, 1, 4)\n",
        "\n",
        "result = a + b\n",
        "\n",
        "print(result)\n",
        "print(\"Shape of Resulting Tensor:\", result.shape)\n"
      ],
      "metadata": {
        "colab": {
          "base_uri": "https://localhost:8080/"
        },
        "id": "wiLHtHg-8njU",
        "outputId": "c2ea00e4-f171-4f71-e202-45a8e0465160"
      },
      "execution_count": 133,
      "outputs": [
        {
          "output_type": "stream",
          "name": "stdout",
          "text": [
            "tensor([[[ 0,  2,  4,  6],\n",
            "         [ 4,  6,  8, 10],\n",
            "         [ 8, 10, 12, 14]],\n",
            "\n",
            "        [[16, 18, 20, 22],\n",
            "         [20, 22, 24, 26],\n",
            "         [24, 26, 28, 30]]])\n",
            "Shape of Resulting Tensor: torch.Size([2, 3, 4])\n"
          ]
        }
      ]
    },
    {
      "cell_type": "markdown",
      "source": [
        "### 2.2. Data Preprocessing"
      ],
      "metadata": {
        "id": "STOCq9R4dbLc"
      }
    },
    {
      "cell_type": "markdown",
      "source": [
        "2.2.1. Reading the Dataset\n"
      ],
      "metadata": {
        "id": "oNqYO_hZeSy0"
      }
    },
    {
      "cell_type": "code",
      "source": [
        "import os\n",
        "\n",
        "os.makedirs(os.path.join('..', 'data'), exist_ok=True)\n",
        "data_file = os.path.join('..', 'data', 'house_tiny.csv')\n",
        "with open(data_file, 'w') as f:\n",
        "    f.write('''NumRooms,RoofType,Price\n",
        "NA,NA,127500\n",
        "2,NA,106000\n",
        "4,Slate,178100\n",
        "NA,NA,140000''')\n",
        "import pandas as pd\n",
        "\n",
        "data = pd.read_csv(data_file)\n",
        "print(data)"
      ],
      "metadata": {
        "colab": {
          "base_uri": "https://localhost:8080/"
        },
        "id": "w5lZP0oSdW4Y",
        "outputId": "9710b8dc-8c0e-4590-f3ed-b83822b82703"
      },
      "execution_count": 101,
      "outputs": [
        {
          "output_type": "stream",
          "name": "stdout",
          "text": [
            "   NumRooms RoofType   Price\n",
            "0       NaN      NaN  127500\n",
            "1       2.0      NaN  106000\n",
            "2       4.0    Slate  178100\n",
            "3       NaN      NaN  140000\n"
          ]
        }
      ]
    },
    {
      "cell_type": "markdown",
      "source": [
        "2.2.2. Data Preparation\n"
      ],
      "metadata": {
        "id": "jQfz3fX9ecvF"
      }
    },
    {
      "cell_type": "code",
      "source": [
        "inputs, targets = data.iloc[:, 0:2], data.iloc[:, 2]\n",
        "inputs = pd.get_dummies(inputs, dummy_na=True)\n",
        "print(inputs)\n",
        "inputs = inputs.fillna(inputs.mean())\n",
        "print(inputs)"
      ],
      "metadata": {
        "colab": {
          "base_uri": "https://localhost:8080/"
        },
        "id": "rOpUQTK3ecyD",
        "outputId": "e0c87557-bcd2-4e83-ccfc-e9bf87bcca9e"
      },
      "execution_count": 102,
      "outputs": [
        {
          "output_type": "stream",
          "name": "stdout",
          "text": [
            "   NumRooms  RoofType_Slate  RoofType_nan\n",
            "0       NaN               0             1\n",
            "1       2.0               0             1\n",
            "2       4.0               1             0\n",
            "3       NaN               0             1\n",
            "   NumRooms  RoofType_Slate  RoofType_nan\n",
            "0       3.0               0             1\n",
            "1       2.0               0             1\n",
            "2       4.0               1             0\n",
            "3       3.0               0             1\n"
          ]
        }
      ]
    },
    {
      "cell_type": "markdown",
      "source": [
        "2.2.3. Conversion to the Tensor Format¶\n"
      ],
      "metadata": {
        "id": "dnDA-MiZell8"
      }
    },
    {
      "cell_type": "code",
      "source": [
        "import torch\n",
        "\n",
        "X = torch.tensor(inputs.to_numpy(dtype=float))\n",
        "y = torch.tensor(targets.to_numpy(dtype=float))\n",
        "X, y"
      ],
      "metadata": {
        "colab": {
          "base_uri": "https://localhost:8080/"
        },
        "id": "0l9N6XlDek1I",
        "outputId": "70dc8fe5-580a-4aa0-d5d1-170b959c7dfa"
      },
      "execution_count": 103,
      "outputs": [
        {
          "output_type": "execute_result",
          "data": {
            "text/plain": [
              "(tensor([[3., 0., 1.],\n",
              "         [2., 0., 1.],\n",
              "         [4., 1., 0.],\n",
              "         [3., 0., 1.]], dtype=torch.float64),\n",
              " tensor([127500., 106000., 178100., 140000.], dtype=torch.float64))"
            ]
          },
          "metadata": {},
          "execution_count": 103
        }
      ]
    },
    {
      "cell_type": "markdown",
      "source": [
        "2.2.5. Exercises\n",
        "\n",
        "1. Try loading datasets, e.g., Abalone from the UCI Machine Learning Repository and inspect their properties. What fraction of them has missing values? What fraction of the variables is numerical, categorical, or text?\n",
        "  There are no missing values\n",
        "  Th  column is type object for sex can be interpreted as categorical. The rest are all numerical data as ints and floats.\n",
        "\n"
      ],
      "metadata": {
        "id": "2XwLMsKxesBc"
      }
    },
    {
      "cell_type": "code",
      "source": [
        "import pandas as pd\n",
        "import requests\n",
        "\n",
        "url = \"https://archive.ics.uci.edu/ml/machine-learning-databases/abalone/abalone.data\"\n",
        "response = requests.get(url)\n",
        "\n",
        "with open('abalone.csv', 'w') as f:\n",
        "    f.write(response.text)\n",
        "\n",
        "df = pd.read_csv('abalone.csv')\n",
        "print(df)\n",
        "dataset_info = df.info()\n",
        "missing_values = df.isna().mean()\n",
        "variable_types = df.dtypes\n",
        "\n",
        "print(\"Dataset Information:\")\n",
        "print(dataset_info)\n",
        "\n",
        "print(\"\\nFraction of Missing Values:\")\n",
        "print(missing_values)\n",
        "\n",
        "print(\"\\nVariable Types:\")\n",
        "print(variable_types)\n"
      ],
      "metadata": {
        "colab": {
          "base_uri": "https://localhost:8080/"
        },
        "id": "JAK8XZ-UesFp",
        "outputId": "7d561049-625e-476d-bef0-1c7712d6fff8"
      },
      "execution_count": 104,
      "outputs": [
        {
          "output_type": "stream",
          "name": "stdout",
          "text": [
            "      M  0.455  0.365  0.095   0.514  0.2245   0.101    0.15  15\n",
            "0     M  0.350  0.265  0.090  0.2255  0.0995  0.0485  0.0700   7\n",
            "1     F  0.530  0.420  0.135  0.6770  0.2565  0.1415  0.2100   9\n",
            "2     M  0.440  0.365  0.125  0.5160  0.2155  0.1140  0.1550  10\n",
            "3     I  0.330  0.255  0.080  0.2050  0.0895  0.0395  0.0550   7\n",
            "4     I  0.425  0.300  0.095  0.3515  0.1410  0.0775  0.1200   8\n",
            "...  ..    ...    ...    ...     ...     ...     ...     ...  ..\n",
            "4171  F  0.565  0.450  0.165  0.8870  0.3700  0.2390  0.2490  11\n",
            "4172  M  0.590  0.440  0.135  0.9660  0.4390  0.2145  0.2605  10\n",
            "4173  M  0.600  0.475  0.205  1.1760  0.5255  0.2875  0.3080   9\n",
            "4174  F  0.625  0.485  0.150  1.0945  0.5310  0.2610  0.2960  10\n",
            "4175  M  0.710  0.555  0.195  1.9485  0.9455  0.3765  0.4950  12\n",
            "\n",
            "[4176 rows x 9 columns]\n",
            "<class 'pandas.core.frame.DataFrame'>\n",
            "RangeIndex: 4176 entries, 0 to 4175\n",
            "Data columns (total 9 columns):\n",
            " #   Column  Non-Null Count  Dtype  \n",
            "---  ------  --------------  -----  \n",
            " 0   M       4176 non-null   object \n",
            " 1   0.455   4176 non-null   float64\n",
            " 2   0.365   4176 non-null   float64\n",
            " 3   0.095   4176 non-null   float64\n",
            " 4   0.514   4176 non-null   float64\n",
            " 5   0.2245  4176 non-null   float64\n",
            " 6   0.101   4176 non-null   float64\n",
            " 7   0.15    4176 non-null   float64\n",
            " 8   15      4176 non-null   int64  \n",
            "dtypes: float64(7), int64(1), object(1)\n",
            "memory usage: 293.8+ KB\n",
            "Dataset Information:\n",
            "None\n",
            "\n",
            "Fraction of Missing Values:\n",
            "M         0.0\n",
            "0.455     0.0\n",
            "0.365     0.0\n",
            "0.095     0.0\n",
            "0.514     0.0\n",
            "0.2245    0.0\n",
            "0.101     0.0\n",
            "0.15      0.0\n",
            "15        0.0\n",
            "dtype: float64\n",
            "\n",
            "Variable Types:\n",
            "M          object\n",
            "0.455     float64\n",
            "0.365     float64\n",
            "0.095     float64\n",
            "0.514     float64\n",
            "0.2245    float64\n",
            "0.101     float64\n",
            "0.15      float64\n",
            "15          int64\n",
            "dtype: object\n"
          ]
        }
      ]
    },
    {
      "cell_type": "markdown",
      "source": [
        "\n",
        "2. Try indexing and selecting data columns by name rather than by column number. The pandas documentation on indexing has further details on how to do this."
      ],
      "metadata": {
        "id": "mTRlGyBkhzqW"
      }
    },
    {
      "cell_type": "code",
      "source": [
        "import pandas as pd\n",
        "\n",
        "# Load the Abalone dataset\n",
        "url = \"https://archive.ics.uci.edu/ml/machine-learning-databases/abalone/abalone.data\"\n",
        "column_names = ['Sex', 'Length', 'Diameter', 'Height', 'WholeWeight', 'ShuckedWeight', 'VisceraWeight', 'ShellWeight', 'Rings']\n",
        "df = pd.read_csv(url, names=column_names)\n",
        "\n",
        "# Select columns by name\n",
        "selected_columns = df[['Sex', 'Length', 'Diameter']]\n",
        "\n",
        "print(\"Selected Columns:\")\n",
        "print(selected_columns.head())\n"
      ],
      "metadata": {
        "colab": {
          "base_uri": "https://localhost:8080/"
        },
        "id": "8UEDmxQtfkQY",
        "outputId": "77be74f9-e23e-4dad-d034-cad996d5b972"
      },
      "execution_count": 105,
      "outputs": [
        {
          "output_type": "stream",
          "name": "stdout",
          "text": [
            "Selected Columns:\n",
            "  Sex  Length  Diameter\n",
            "0   M   0.455     0.365\n",
            "1   M   0.350     0.265\n",
            "2   F   0.530     0.420\n",
            "3   M   0.440     0.365\n",
            "4   I   0.330     0.255\n"
          ]
        }
      ]
    },
    {
      "cell_type": "markdown",
      "source": [
        "\n",
        "3. How large a dataset do you think you could load this way? What might be the limitations? Hint: consider the time to read the data, representation, processing, and memory footprint. Try this out on your laptop. What happens if you try it out on a server?\n",
        "\n",
        "I would imagine that the RAM is the primary limiting factor on my computer. Furthermore, The loading of dataset would be dependandant on the efficiency of my code, the data type/structure of my dataset. I would imagine that an extremely large dataset could be handled much better by a server or even distributing the processing workload to multiple machines\n"
      ],
      "metadata": {
        "id": "xGtGBHOZh3Cv"
      }
    },
    {
      "cell_type": "markdown",
      "source": [
        "\n",
        "4. How would you deal with data that has a very large number of categories? What if the category labels are all unique? Should you include the latter?\n",
        "\n",
        "I would probably want to use some form of hashing or reduction of dimensionality if my problem enabled me to do so. Or I would like to transform the high-cardinality categorical variables into lwoer-dimensional vectors.\n",
        "\n",
        "Including all the category labels couls lead to overfitting, a need for a more powerful system, or difficulty to interpret.\n",
        "\n",
        "5. What alternatives to pandas can you think of? How about loading NumPy tensors from a file? Check out Pillow, the Python Imaging Library.\n",
        "\n",
        "I could use Numpy or dask. Loading numpy tensors from another files could definitely work well with numerical data in particular. Pillow looks like that it would be a useful library when working withj images and performing different image processing tasks."
      ],
      "metadata": {
        "id": "mem86N-qimVL"
      }
    },
    {
      "cell_type": "markdown",
      "source": [
        "# 2.3 Linear Algebra"
      ],
      "metadata": {
        "id": "oQ8FCBjNomIK"
      }
    },
    {
      "cell_type": "markdown",
      "source": [
        "2.3.1. Scalars¶\n"
      ],
      "metadata": {
        "id": "29qTp0hvrCvy"
      }
    },
    {
      "cell_type": "code",
      "source": [
        "import torch\n",
        "\n",
        "x = torch.tensor(3.0)\n",
        "y = torch.tensor(2.0)\n",
        "\n",
        "x + y, x * y, x / y, x**y\n",
        "\n",
        "\n"
      ],
      "metadata": {
        "colab": {
          "base_uri": "https://localhost:8080/"
        },
        "id": "NJBS4ldch3QK",
        "outputId": "ee6b7f9a-66a8-4817-9ddb-b4d1ef9f465b"
      },
      "execution_count": 106,
      "outputs": [
        {
          "output_type": "execute_result",
          "data": {
            "text/plain": [
              "(tensor(5.), tensor(6.), tensor(1.5000), tensor(9.))"
            ]
          },
          "metadata": {},
          "execution_count": 106
        }
      ]
    },
    {
      "cell_type": "markdown",
      "source": [
        "2.3.2. Vectors\n"
      ],
      "metadata": {
        "id": "l34vSsccrD6q"
      }
    },
    {
      "cell_type": "code",
      "source": [
        "x = torch.arange(3)\n",
        "x\n",
        "\n",
        "x[2]\n",
        "\n",
        "len(x)\n",
        "\n",
        "x.shape"
      ],
      "metadata": {
        "colab": {
          "base_uri": "https://localhost:8080/"
        },
        "id": "QcFZcvSmrD-L",
        "outputId": "9503f0a6-152d-4893-b5e3-d10274ee7ea6"
      },
      "execution_count": 107,
      "outputs": [
        {
          "output_type": "execute_result",
          "data": {
            "text/plain": [
              "torch.Size([3])"
            ]
          },
          "metadata": {},
          "execution_count": 107
        }
      ]
    },
    {
      "cell_type": "markdown",
      "source": [
        "2.3.3. Matrices"
      ],
      "metadata": {
        "id": "vVBwaR9DrED3"
      }
    },
    {
      "cell_type": "code",
      "source": [
        "A = torch.arange(6).reshape(3, 2)\n",
        "A\n",
        "\n",
        "A.T\n",
        "\n",
        "A = torch.tensor([[1, 2, 3], [2, 0, 4], [3, 4, 5]])\n",
        "A == A.T"
      ],
      "metadata": {
        "colab": {
          "base_uri": "https://localhost:8080/"
        },
        "id": "kcKyJJ3NrEHs",
        "outputId": "d42b40e6-a969-4273-8d69-aa4da26cb7a4"
      },
      "execution_count": 108,
      "outputs": [
        {
          "output_type": "execute_result",
          "data": {
            "text/plain": [
              "tensor([[True, True, True],\n",
              "        [True, True, True],\n",
              "        [True, True, True]])"
            ]
          },
          "metadata": {},
          "execution_count": 108
        }
      ]
    },
    {
      "cell_type": "markdown",
      "source": [
        "2.3.4. Tensors\n"
      ],
      "metadata": {
        "id": "fpo0hrKprRpX"
      }
    },
    {
      "cell_type": "code",
      "source": [
        "torch.arange(24).reshape(2, 3, 4)\n"
      ],
      "metadata": {
        "colab": {
          "base_uri": "https://localhost:8080/"
        },
        "id": "R1qInbZ_rRsO",
        "outputId": "8c4132ca-480c-4274-f542-4e58177af7b5"
      },
      "execution_count": 109,
      "outputs": [
        {
          "output_type": "execute_result",
          "data": {
            "text/plain": [
              "tensor([[[ 0,  1,  2,  3],\n",
              "         [ 4,  5,  6,  7],\n",
              "         [ 8,  9, 10, 11]],\n",
              "\n",
              "        [[12, 13, 14, 15],\n",
              "         [16, 17, 18, 19],\n",
              "         [20, 21, 22, 23]]])"
            ]
          },
          "metadata": {},
          "execution_count": 109
        }
      ]
    },
    {
      "cell_type": "markdown",
      "source": [
        "2.3.5. Basic Properties of Tensor Arithmetic\n"
      ],
      "metadata": {
        "id": "ZJky3S6ErT0C"
      }
    },
    {
      "cell_type": "code",
      "source": [
        "A = torch.arange(6, dtype=torch.float32).reshape(2, 3)\n",
        "B = A.clone()  # Assign a copy of A to B by allocating new memory\n",
        "A, A + B\n",
        "\n",
        "A * B\n",
        "\n",
        "a = 2\n",
        "X = torch.arange(24).reshape(2, 3, 4)\n",
        "a + X, (a * X).shape"
      ],
      "metadata": {
        "colab": {
          "base_uri": "https://localhost:8080/"
        },
        "id": "ZoieTqVwrT3l",
        "outputId": "ac94f597-cac2-4388-f6aa-a63dd7012155"
      },
      "execution_count": 110,
      "outputs": [
        {
          "output_type": "execute_result",
          "data": {
            "text/plain": [
              "(tensor([[[ 2,  3,  4,  5],\n",
              "          [ 6,  7,  8,  9],\n",
              "          [10, 11, 12, 13]],\n",
              " \n",
              "         [[14, 15, 16, 17],\n",
              "          [18, 19, 20, 21],\n",
              "          [22, 23, 24, 25]]]),\n",
              " torch.Size([2, 3, 4]))"
            ]
          },
          "metadata": {},
          "execution_count": 110
        }
      ]
    },
    {
      "cell_type": "markdown",
      "source": [
        "2.3.6. Reduction\n"
      ],
      "metadata": {
        "id": "IXzlNAEFrYX1"
      }
    },
    {
      "cell_type": "code",
      "source": [
        "x = torch.arange(3, dtype=torch.float32)\n",
        "x, x.sum()\n",
        "\n",
        "A.shape, A.sum()\n",
        "\n",
        "A.shape, A.sum(axis=0).shape\n",
        "\n",
        "A.shape, A.sum(axis=1).shape\n",
        "\n",
        "A.sum(axis=[0, 1]) == A.sum()  # Same as A.sum()\n",
        "\n",
        "A.mean(), A.sum() / A.numel()\n",
        "\n",
        "A.mean(axis=0), A.sum(axis=0) / A.shape[0]"
      ],
      "metadata": {
        "colab": {
          "base_uri": "https://localhost:8080/"
        },
        "id": "mZOIaYGUrYa2",
        "outputId": "cca57da7-32db-4e8a-88db-c9e01de84a21"
      },
      "execution_count": 111,
      "outputs": [
        {
          "output_type": "execute_result",
          "data": {
            "text/plain": [
              "(tensor([1.5000, 2.5000, 3.5000]), tensor([1.5000, 2.5000, 3.5000]))"
            ]
          },
          "metadata": {},
          "execution_count": 111
        }
      ]
    },
    {
      "cell_type": "markdown",
      "source": [
        "2.3.7. Non-Reduction Sum\n"
      ],
      "metadata": {
        "id": "xoe_j5MprqG9"
      }
    },
    {
      "cell_type": "code",
      "source": [
        "sum_A = A.sum(axis=1, keepdims=True)\n",
        "sum_A, sum_A.shape\n",
        "\n",
        "A / sum_A\n",
        "\n",
        "A.cumsum(axis=0)\n",
        "\n"
      ],
      "metadata": {
        "colab": {
          "base_uri": "https://localhost:8080/"
        },
        "id": "vWJKBAeUrqKY",
        "outputId": "9bf8fe45-a2f9-4a3c-ee70-ef70bb8544e7"
      },
      "execution_count": 112,
      "outputs": [
        {
          "output_type": "execute_result",
          "data": {
            "text/plain": [
              "tensor([[0., 1., 2.],\n",
              "        [3., 5., 7.]])"
            ]
          },
          "metadata": {},
          "execution_count": 112
        }
      ]
    },
    {
      "cell_type": "markdown",
      "source": [
        "2.3.8. Dot Products\n"
      ],
      "metadata": {
        "id": "NRxXglVPrvEH"
      }
    },
    {
      "cell_type": "code",
      "source": [
        "y = torch.ones(3, dtype = torch.float32)\n",
        "x, y, torch.dot(x, y)\n",
        "\n",
        "torch.sum(x * y)"
      ],
      "metadata": {
        "colab": {
          "base_uri": "https://localhost:8080/"
        },
        "id": "k5skTruIrvH9",
        "outputId": "292c2855-2ba9-4866-f539-a8f84e6230c9"
      },
      "execution_count": 113,
      "outputs": [
        {
          "output_type": "execute_result",
          "data": {
            "text/plain": [
              "tensor(3.)"
            ]
          },
          "metadata": {},
          "execution_count": 113
        }
      ]
    },
    {
      "cell_type": "markdown",
      "source": [
        "2.3.9. Matrix–Vector Products\n"
      ],
      "metadata": {
        "id": "DlbxxMRDrvXR"
      }
    },
    {
      "cell_type": "code",
      "source": [
        "A.shape, x.shape, torch.mv(A, x), A@x\n"
      ],
      "metadata": {
        "colab": {
          "base_uri": "https://localhost:8080/"
        },
        "id": "TQxIhR0Arvat",
        "outputId": "aa2d7e26-c75b-408a-ea34-796c7dca222f"
      },
      "execution_count": 114,
      "outputs": [
        {
          "output_type": "execute_result",
          "data": {
            "text/plain": [
              "(torch.Size([2, 3]), torch.Size([3]), tensor([ 5., 14.]), tensor([ 5., 14.]))"
            ]
          },
          "metadata": {},
          "execution_count": 114
        }
      ]
    },
    {
      "cell_type": "markdown",
      "source": [
        "2.3.10. Matrix–Matrix Multiplication\n"
      ],
      "metadata": {
        "id": "VXY6l7fOr1Vv"
      }
    },
    {
      "cell_type": "code",
      "source": [
        "B = torch.ones(3, 4)\n",
        "torch.mm(A, B), A@B"
      ],
      "metadata": {
        "colab": {
          "base_uri": "https://localhost:8080/"
        },
        "id": "XjRQh3ker1ZY",
        "outputId": "531fb5b8-4e20-4a02-e6c2-dec03473c9d8"
      },
      "execution_count": 115,
      "outputs": [
        {
          "output_type": "execute_result",
          "data": {
            "text/plain": [
              "(tensor([[ 3.,  3.,  3.,  3.],\n",
              "         [12., 12., 12., 12.]]),\n",
              " tensor([[ 3.,  3.,  3.,  3.],\n",
              "         [12., 12., 12., 12.]]))"
            ]
          },
          "metadata": {},
          "execution_count": 115
        }
      ]
    },
    {
      "cell_type": "markdown",
      "source": [
        "2.3.11. Norms\n"
      ],
      "metadata": {
        "id": "ygEmoA0Wr6_Y"
      }
    },
    {
      "cell_type": "code",
      "source": [
        "u = torch.tensor([3.0, -4.0])\n",
        "torch.norm(u)\n",
        "\n",
        "torch.abs(u).sum()\n",
        "\n",
        "torch.norm(torch.ones((4, 9)))\n",
        "\n"
      ],
      "metadata": {
        "id": "OTDWbzclr7DZ"
      },
      "execution_count": null,
      "outputs": []
    },
    {
      "cell_type": "markdown",
      "source": [
        "# 2.3.13 Exercises\n",
        "\n",
        "1.   Prove that the transpose of the transpose of a matrix is the matrix itself:\n",
        "The transponse of A is done so by swapping the rows and columns, so taking the transpose of A^T means swapping the swapped rows and columns back which undeos the previous transposition. The final result should be what we once started with.\n",
        "\n",
        "\n",
        "2. Given two matrices\n",
        " and\n",
        ", show that sum and transposition commute:\n",
        "\n",
        "\n",
        "\n",
        "3. Given any square matrix\n",
        ", is\n",
        " always symmetric? Can you prove the result by using only the results of the previous two exercises?\n",
        "\n",
        "4. We defined the tensor X of shape (2, 3, 4) in this section. What is the output of len(X)? Write your answer without implementing any code, then check your answer using code.\n"
      ],
      "metadata": {
        "id": "rMYKVrIUsJC-"
      }
    },
    {
      "cell_type": "code",
      "source": [
        "X = torch.arange(24).reshape(2, 3, 4)\n",
        "X\n",
        "len(X)\n"
      ],
      "metadata": {
        "colab": {
          "base_uri": "https://localhost:8080/"
        },
        "id": "-1nSGnsSwPXl",
        "outputId": "a0460548-5691-4faa-a8a4-199a3191b526"
      },
      "execution_count": 116,
      "outputs": [
        {
          "output_type": "execute_result",
          "data": {
            "text/plain": [
              "2"
            ]
          },
          "metadata": {},
          "execution_count": 116
        }
      ]
    },
    {
      "cell_type": "markdown",
      "source": [
        "\n",
        "5. For a tensor X of arbitrary shape, does len(X) always correspond to the length of a certain axis of X? What is that axis?\n",
        "It always corresponds to the first axis, or the first dimension of the matrix\n"
      ],
      "metadata": {
        "id": "f9RRh6V9wVRI"
      }
    },
    {
      "cell_type": "code",
      "source": [
        "X = torch.arange(24).reshape(3, 2, 4)\n",
        "print(X)\n",
        "\n",
        "print(len(X))\n",
        "\n",
        "X = torch.arange(24).reshape(4, 3, 2)\n",
        "print(X)\n",
        "\n",
        "print(len(X))\n",
        "\n",
        "#"
      ],
      "metadata": {
        "colab": {
          "base_uri": "https://localhost:8080/"
        },
        "id": "IE1PvsZlwYsP",
        "outputId": "f8ce1938-b663-4002-faba-ad24a5b485cd"
      },
      "execution_count": 119,
      "outputs": [
        {
          "output_type": "stream",
          "name": "stdout",
          "text": [
            "tensor([[[ 0,  1,  2,  3],\n",
            "         [ 4,  5,  6,  7]],\n",
            "\n",
            "        [[ 8,  9, 10, 11],\n",
            "         [12, 13, 14, 15]],\n",
            "\n",
            "        [[16, 17, 18, 19],\n",
            "         [20, 21, 22, 23]]])\n",
            "3\n",
            "tensor([[[ 0,  1],\n",
            "         [ 2,  3],\n",
            "         [ 4,  5]],\n",
            "\n",
            "        [[ 6,  7],\n",
            "         [ 8,  9],\n",
            "         [10, 11]],\n",
            "\n",
            "        [[12, 13],\n",
            "         [14, 15],\n",
            "         [16, 17]],\n",
            "\n",
            "        [[18, 19],\n",
            "         [20, 21],\n",
            "         [22, 23]]])\n",
            "4\n"
          ]
        }
      ]
    },
    {
      "cell_type": "markdown",
      "source": [
        "6. Run A / A.sum(axis=1) and see what happens. Can you analyze the results?\n",
        "It fails because A has 4 columns, while A.sum has 5"
      ],
      "metadata": {
        "id": "bFW8TkEwwYyN"
      }
    },
    {
      "cell_type": "code",
      "source": [
        "A = torch.arange(20, dtype=torch.float32).reshape(5, 4)\n",
        "A / A.sum(axis=1)\n",
        "\n",
        "\n",
        "\n",
        "\n"
      ],
      "metadata": {
        "colab": {
          "base_uri": "https://localhost:8080/",
          "height": 254
        },
        "id": "kDtC0ZMfwY3G",
        "outputId": "c02856bf-641a-461e-b4fe-b4a6f60a76a3"
      },
      "execution_count": 120,
      "outputs": [
        {
          "output_type": "error",
          "ename": "RuntimeError",
          "evalue": "The size of tensor a (4) must match the size of tensor b (5) at non-singleton dimension 1",
          "traceback": [
            "\u001b[0;31m---------------------------------------------------------------------------\u001b[0m",
            "\u001b[0;31mRuntimeError\u001b[0m                              Traceback (most recent call last)",
            "\u001b[0;32m<ipython-input-120-bd1c094247bc>\u001b[0m in \u001b[0;36m<cell line: 2>\u001b[0;34m()\u001b[0m\n\u001b[1;32m      1\u001b[0m \u001b[0mA\u001b[0m \u001b[0;34m=\u001b[0m \u001b[0mtorch\u001b[0m\u001b[0;34m.\u001b[0m\u001b[0marange\u001b[0m\u001b[0;34m(\u001b[0m\u001b[0;36m20\u001b[0m\u001b[0;34m,\u001b[0m \u001b[0mdtype\u001b[0m\u001b[0;34m=\u001b[0m\u001b[0mtorch\u001b[0m\u001b[0;34m.\u001b[0m\u001b[0mfloat32\u001b[0m\u001b[0;34m)\u001b[0m\u001b[0;34m.\u001b[0m\u001b[0mreshape\u001b[0m\u001b[0;34m(\u001b[0m\u001b[0;36m5\u001b[0m\u001b[0;34m,\u001b[0m \u001b[0;36m4\u001b[0m\u001b[0;34m)\u001b[0m\u001b[0;34m\u001b[0m\u001b[0;34m\u001b[0m\u001b[0m\n\u001b[0;32m----> 2\u001b[0;31m \u001b[0mA\u001b[0m \u001b[0;34m/\u001b[0m \u001b[0mA\u001b[0m\u001b[0;34m.\u001b[0m\u001b[0msum\u001b[0m\u001b[0;34m(\u001b[0m\u001b[0maxis\u001b[0m\u001b[0;34m=\u001b[0m\u001b[0;36m1\u001b[0m\u001b[0;34m)\u001b[0m\u001b[0;34m\u001b[0m\u001b[0;34m\u001b[0m\u001b[0m\n\u001b[0m\u001b[1;32m      3\u001b[0m \u001b[0;34m\u001b[0m\u001b[0m\n\u001b[1;32m      4\u001b[0m \u001b[0;34m\u001b[0m\u001b[0m\n\u001b[1;32m      5\u001b[0m \u001b[0;34m\u001b[0m\u001b[0m\n",
            "\u001b[0;31mRuntimeError\u001b[0m: The size of tensor a (4) must match the size of tensor b (5) at non-singleton dimension 1"
          ]
        }
      ]
    },
    {
      "cell_type": "markdown",
      "source": [
        "\n",
        "7. When traveling between two points in downtown Manhattan, what is the distance that you need to cover in terms of the coordinates, i.e., in terms of avenues and streets? Can you travel diagonally?\n",
        "\n",
        "The sum of the vertical difference and the horizontal difference. You cannot travel diagonally unless there is a diagonal road, but I am assuming that downtown Manhattan is a metaphor for a matrix.\n",
        "\n"
      ],
      "metadata": {
        "id": "HCsgtmjXwY7Y"
      }
    },
    {
      "cell_type": "markdown",
      "source": [
        "8. Consider a tensor of shape (2, 3, 4). What are the shapes of the summation outputs along axes 0, 1, and 2?\n"
      ],
      "metadata": {
        "id": "CAQUBXlIwZEI"
      }
    },
    {
      "cell_type": "code",
      "source": [
        "X = torch.arange(24).reshape(4, 3, 2)\n",
        "print(X)\n",
        "print(X.sum(axis=0))\n",
        "print(X.sum(axis=1))\n",
        "print(X.sum(axis=2))\n",
        "\n"
      ],
      "metadata": {
        "colab": {
          "base_uri": "https://localhost:8080/"
        },
        "id": "D1BX43LPwZIu",
        "outputId": "34eb3149-e73f-4472-eb12-e3b2dae790b1"
      },
      "execution_count": 121,
      "outputs": [
        {
          "output_type": "stream",
          "name": "stdout",
          "text": [
            "tensor([[[ 0,  1],\n",
            "         [ 2,  3],\n",
            "         [ 4,  5]],\n",
            "\n",
            "        [[ 6,  7],\n",
            "         [ 8,  9],\n",
            "         [10, 11]],\n",
            "\n",
            "        [[12, 13],\n",
            "         [14, 15],\n",
            "         [16, 17]],\n",
            "\n",
            "        [[18, 19],\n",
            "         [20, 21],\n",
            "         [22, 23]]])\n",
            "tensor([[36, 40],\n",
            "        [44, 48],\n",
            "        [52, 56]])\n",
            "tensor([[ 6,  9],\n",
            "        [24, 27],\n",
            "        [42, 45],\n",
            "        [60, 63]])\n",
            "tensor([[ 1,  5,  9],\n",
            "        [13, 17, 21],\n",
            "        [25, 29, 33],\n",
            "        [37, 41, 45]])\n"
          ]
        }
      ]
    },
    {
      "cell_type": "markdown",
      "source": [
        "\n",
        "9. Feed a tensor with three or more axes to the linalg.norm function and observe its output. What does this function compute for tensors of arbitrary shape?\n",
        "\n",
        "It likely computes the norm of any given tensor.\n"
      ],
      "metadata": {
        "id": "s1D7XbpAwZM-"
      }
    },
    {
      "cell_type": "code",
      "source": [
        "import numpy as np\n",
        "\n",
        "X = torch.arange(24).reshape(4, 3, 2)\n",
        "X\n",
        "\n",
        "np.linalg.norm(X)\n",
        "\n",
        "X = torch.arange(48).reshape(4, 3, 2, 2)\n",
        "X\n",
        "np.linalg.norm(X)\n",
        "\n"
      ],
      "metadata": {
        "colab": {
          "base_uri": "https://localhost:8080/"
        },
        "id": "exwpZoKYwZRp",
        "outputId": "bdd75dcf-ff98-45cc-f262-1b171e80f317"
      },
      "execution_count": 122,
      "outputs": [
        {
          "output_type": "execute_result",
          "data": {
            "text/plain": [
              "188.9973544788392"
            ]
          },
          "metadata": {},
          "execution_count": 122
        }
      ]
    },
    {
      "cell_type": "markdown",
      "source": [
        "\n",
        "10. Consider three large matrices, say\n",
        ",\n",
        "A is of size (2^10 x 2^16)\n",
        "B is of size (2^16 x 2^5)\n",
        "C is of size (2^5 x 2^14)\n",
        " and\n",
        ", initialized with Gaussian random variables. You want to compute the product\n",
        ". Is there any difference in memory footprint and speed, depending on whether you compute\n",
        " or\n",
        ". Why?\n",
        "\n",
        "In the case of (AB)C, you need to store an intermediate result of size (2^10 x 2^5).\n",
        "\n",
        "In the case of A(BC), you need to store an intermediate result of size (2^16 x 2^14).\n",
        "\n",
        "(AB)C requires less memory and we can assume that it will be faster\n"
      ],
      "metadata": {
        "id": "_Lq-c4mXy8x4"
      }
    },
    {
      "cell_type": "markdown",
      "source": [
        "\n",
        "11. Consider three large matrices, say\n",
        ",\n",
        " and\n",
        ". Is there any difference in speed depending on whether you compute\n",
        " or\n",
        "? Why? What changes if you initialize\n",
        " without cloning memory? Why?\n",
        "\n",
        "AB results in a matrix of size (2^10 x 2^5). AC^T results in a matrix (2^10 x 2^5). The size of both of the results are the same, but we can assume that needing to transpose a matrix on top of the basic matrxi multiplication will require more memory and will take longer."
      ],
      "metadata": {
        "id": "SP9dURAIy85P"
      }
    },
    {
      "cell_type": "markdown",
      "source": [
        "\n",
        "12. Consider three matrices, say\n",
        ". Construct a tensor with three axes by stacking\n",
        ". What is the dimensionality? Slice out the second coordinate of the third axis to recover\n",
        ". Check that your answer is correct.\n",
        "\n",
        "The dimensionality is 3"
      ],
      "metadata": {
        "id": "wYMX7fR-0Mf_"
      }
    },
    {
      "cell_type": "code",
      "source": [
        "import numpy as np\n",
        "\n",
        "a = np.random.rand(100, 200)\n",
        "b = np.random.rand(100, 200)\n",
        "c = np.random.rand(100, 200)\n",
        "\n",
        "tensor = np.stack([a, b, c])\n",
        "\n",
        "tensor_dimensions = tensor.shape\n",
        "\n",
        "recovered_b = tensor[1, :, :]\n",
        "\n",
        "is_b_recovered = np.array_equal(recovered_b, b)\n",
        "\n",
        "tensor_dimensions, is_b_recovered\n"
      ],
      "metadata": {
        "colab": {
          "base_uri": "https://localhost:8080/"
        },
        "id": "lhItpaSu0Mjs",
        "outputId": "2a026434-c06b-4d4a-dc8e-9631c4ba17b3"
      },
      "execution_count": 128,
      "outputs": [
        {
          "output_type": "execute_result",
          "data": {
            "text/plain": [
              "((3, 100, 200), True)"
            ]
          },
          "metadata": {},
          "execution_count": 128
        }
      ]
    },
    {
      "cell_type": "markdown",
      "source": [
        "#2.4. Calculus"
      ],
      "metadata": {
        "id": "HX1gspHs7lVB"
      }
    },
    {
      "cell_type": "markdown",
      "source": [
        "1. So far we took the rules for derivatives for granted. Using the definition and limits prove the properties for\n",
        "\n",
        "(i) f(x)=c,\n",
        "\n",
        "f'(x)= h→0lim[f(x+h)-f(x)]/h  \n",
        "f'(x)= h→0lim c-c/h = 0\n",
        "\n",
        "(ii) f(x)=x^n\n",
        "\n",
        "f'(x) = lim(h -> 0) [(x + h)^n - x^n] / h\n",
        "f'(x) = lim(h -> 0) [(x^n + nx^(n-1)h + ...) - x^n] / h\n",
        "\n",
        " = nx^(n-1)\n",
        "\n",
        "(iii) f(x)=e^x\n",
        "\n",
        "f'(x) = lim(h -> 0) [e^(x + h) - e^x] / h\n",
        "\n",
        "f'(x) = lim(h -> 0) [e^x * e^h - e^x] / h\n",
        "\n",
        "f'(x) = e^x * lim(h -> 0) [e^h - 1] / h\n",
        "\n",
        "f'(x) = e^x * 1 = e^x\n",
        "\n",
        "\n",
        "\n",
        "\n",
        " and (iv) f(x)=logx.\n",
        "\n",
        "\n",
        "f'(x) = lim(h -> 0) [log(x + h) - log(x)] / h\n",
        "\n",
        "f'(x) = lim(h -> 0) [log((x + h)/x)] / h\n",
        "\n",
        "\n",
        "lim(h -> 0) [log(1 + h/x)] / h = 1/x * lim(h -> 0) [log(1 + h/x)] / (h/x) =1/x * lim(h -> 0) [log(1 + 0)] / 0 = 1/x * 0\n",
        "\n",
        "=0\n",
        "\n",
        "\n",
        "\n",
        "\n",
        "\n"
      ],
      "metadata": {
        "id": "5IcGlPAF0Mu8"
      }
    },
    {
      "cell_type": "markdown",
      "source": [
        "\n",
        "2. In the same vein, prove the product, sum, and quotient rule from first principles.\n",
        "\n",
        "Product rule\n",
        "\n",
        "(uv)' = u'v + uv'\n",
        "\n",
        "(uv)' = lim(h -> 0) [(uv)(x + h) - (uv)(x)] / h\n",
        "\n",
        "\n",
        "(uv)' = lim(h -> 0) [u(x + h)v(x + h) - u(x)v(x)] / h\n",
        "\n",
        "\n",
        "lim(h -> 0) [u(x + h)v(x + h) - u(x)v(x)] / h = lim(h -> 0) [u(x + h)v(x + h) - u(x)v(x)] / lim(h -> 0) h\n",
        "\n",
        "\n",
        "(uv)' = u'(x)v(x) + u(x)v'(x)\n",
        "\n",
        "Sum Rule\n",
        "\n",
        "(u + v)' = u' + v'\n",
        "\n",
        "(u + v)' = lim(h -> 0) [(u + v)(x + h) - (u + v)(x)] / h\n",
        "\n",
        "(u + v)' = lim(h -> 0) [u(x + h) + v(x + h) - u(x) - v(x)] / h\n",
        "\n",
        "lim(h -> 0) [u(x + h) + v(x + h) - u(x) - v(x)] / h = lim(h -> 0) [u(x + h) - u(x)] / h + lim(h -> 0) [v(x + h) - v(x)] / h\n",
        "\n",
        "(u + v)' = u'(x) + v'(x)\n",
        "\n",
        "\n",
        "Quotient Rule\n",
        "\n",
        "(u / v)' = (u'v - uv') / (v^2)\n",
        "\n",
        "(u / v)' = lim(h -> 0) [(u / v)(x + h) - (u / v)(x)] / h\n",
        "\n",
        "\n",
        "(u / v)' = lim(h -> 0) [(u(x + h) / v(x + h)) - (u(x) / v(x))] / h\n",
        "\n",
        "(u / v)' = lim(h -> 0) [(u(x + h)v(x) - u(x)v(x + h))] / (h * v(x + h)v(x))\n",
        "\n",
        "\n",
        "(u / v)' = (u'v - uv') / v^2\n",
        "\n",
        "\n",
        "\n",
        "\n",
        "\n"
      ],
      "metadata": {
        "id": "eW4Sy81H-bVO"
      }
    },
    {
      "cell_type": "markdown",
      "source": [
        "\n",
        "3. Prove that the constant multiple rule follows as a special case of the product rule.\n",
        "\n",
        "(d/dx)[c * f(x)] = c * (d/dx)[f(x)]\n",
        "\n",
        "(g(x))' = (c * f(x))'\n",
        "\n",
        "\n",
        "(g(x))' = c' * f(x) + c * (f(x))'\n",
        "\n",
        "(g(x))' = 0 * f(x) + c * (f(x))'\n",
        "\n",
        "\n",
        "(g(x))' = c * (f(x))'\n",
        "\n"
      ],
      "metadata": {
        "id": "NuHXEZfoB2id"
      }
    },
    {
      "cell_type": "markdown",
      "source": [
        "\n",
        "4. Calculate the derivative of f(x)=x^x.\n",
        "\n",
        "ln(y)=ln(x^x ).\n",
        "\n",
        "ln(y)=xln(x).\n",
        "\n",
        "d/dx [ln(y)]= d/dx [xln(x)].\n",
        "\n",
        "1/y ⋅ dy/dx = d/dx ⋅ (x)⋅ln(x)+x⋅  d/dx ⋅ [ln(x)]\n",
        "\n",
        "1/y ⋅ dy/dx =ln(x)+1\n",
        "\n",
        "dy/dx =x^x ln(x)+1\n",
        "\n",
        "\n"
      ],
      "metadata": {
        "id": "idW7w2J5C8_D"
      }
    },
    {
      "cell_type": "markdown",
      "source": [
        "\n",
        "5. What does it mean that\n",
        " for some\n",
        "? Give an example of a function\n",
        " and a location\n",
        " for which this might hold.\n",
        "\n",
        " It holds that (x,f(x)) has a slope of zero. this is a local max or min at x\n",
        "\n",
        "\\ex: f(x)=x^2\n",
        "\n",
        "f ′ (x)=2x\n",
        "\n",
        "2x=0 at 0"
      ],
      "metadata": {
        "id": "VPgbzLFPC9Dm"
      }
    },
    {
      "cell_type": "markdown",
      "source": [
        "\n",
        "6. Plot the function y = f(x) = x^3 -1/x and plot its tangent line at x=1.\n",
        "\n"
      ],
      "metadata": {
        "id": "pfXgVyhlC9Ks"
      }
    },
    {
      "cell_type": "code",
      "source": [
        "import numpy as np\n",
        "import matplotlib.pyplot as plt\n",
        "\n",
        "def f(x):\n",
        "    return x**3 - 1/x\n",
        "\n",
        "def tangent_line(x):\n",
        "    return 2*x - 1\n",
        "\n",
        "x = np.linspace(0.1, 2, 400)\n",
        "y = f(x)\n",
        "tangent = tangent_line(x)\n",
        "plt.figure(figsize=(8, 6))\n",
        "plt.plot(x, y, label='f(x) = $x^3 - \\\\frac{1}{x}$', color='blue')\n",
        "plt.plot(x, tangent, label='Tangent Line at x=1', color='red', linestyle='--')\n",
        "plt.scatter(1, f(1), color='green', marker='o', label='Point (1, f(1))')\n",
        "\n",
        "plt.annotate('Point of Tangency (1, f(1))', xy=(1, f(1)), xytext=(1.2, 1.5),\n",
        "             arrowprops=dict(arrowstyle='->', color='green'))\n",
        "plt.xlabel('x')\n",
        "plt.ylabel('y')\n",
        "plt.legend()\n",
        "plt.grid(True)\n",
        "plt.title('Plot of f(x) and Tangent Line at x=1')\n",
        "plt.show()"
      ],
      "metadata": {
        "colab": {
          "base_uri": "https://localhost:8080/",
          "height": 564
        },
        "id": "lF1J3nKjFQDY",
        "outputId": "874dfef8-02ff-409a-87e8-55d21b67612e"
      },
      "execution_count": 135,
      "outputs": [
        {
          "output_type": "display_data",
          "data": {
            "text/plain": [
              "<Figure size 800x600 with 1 Axes>"
            ],
            "image/png": "[encoded data removed]"
          },
          "metadata": {}
        }
      ]
    },
    {
      "cell_type": "markdown",
      "source": [
        "\n",
        "7. Find the gradient of the function  f(x)3x1^2\n",
        "+ 5e^x2.\n",
        "d/dx1 = 6x1\n",
        "\n",
        "d/dx2 = 5e ^x2\n",
        "\n",
        "gradient = ( 6x1,5e ^x2)"
      ],
      "metadata": {
        "id": "bkJjiNlRC9NK"
      }
    },
    {
      "cell_type": "markdown",
      "source": [
        "\n",
        "8. What is the gradient of the function ||x||2? What happens for x=0?\n",
        "\n",
        "gradient of ||x||2 =([x1 (||x||2)],[x2 (||x||2)],...,[xn (||x||2)],)\n",
        "\n",
        "at 0 it would be undefined because we are dividing by 0"
      ],
      "metadata": {
        "id": "dNMKyfzhFdez"
      }
    },
    {
      "cell_type": "markdown",
      "source": [
        "\n",
        "9. Can you write out the chain rule for the case where f(x,y,z) and x=x(a,b)y = y(a,b) , and z=z(a,b)?\n",
        "\n",
        "df/da = df/dx  ⋅ dx/da +  df/dy  ⋅ dy/da +  df/dz  ⋅ dz/da\n",
        "\n",
        "df/db = df/dx  ⋅ dx/db +  df/dy  ⋅ dy/db +  df/dz  ⋅ dz/db\n"
      ],
      "metadata": {
        "id": "UbybU4fLFdjj"
      }
    },
    {
      "cell_type": "markdown",
      "source": [
        "10. Given a function f(x) that is invertible, compute the derivative of its inverse f^-1(x). Here we have that f^-1(f(x)) and conversely f^-1(f(y))=y. Hint: use these properties in your derivation.\n",
        "\n",
        "d/dx[f^-1(y)]=d/dx[x]\n",
        "\n",
        "d/dy[f^-1(y)]=d/dx[1]\n",
        "\n",
        "dy/dx = 1/d/dy[f^-1(y)]"
      ],
      "metadata": {
        "id": "JZmZfoUMFdom"
      }
    },
    {
      "cell_type": "markdown",
      "source": [
        "# 2.5 Automatic Differentiation"
      ],
      "metadata": {
        "id": "dm25kc40Fdq9"
      }
    },
    {
      "cell_type": "code",
      "source": [
        "import torch\n",
        "\n",
        "x = torch.arange(4.0)\n",
        "x\n",
        "\n",
        "# Can also create x = torch.arange(4.0, requires_grad=True)\n",
        "x.requires_grad_(True)\n",
        "x.grad  # The gradient is None by default\n",
        "\n",
        "y = 2 * torch.dot(x, x)\n",
        "y\n",
        "\n",
        "y.backward()\n",
        "x.grad\n",
        "\n",
        "x.grad == 4 * x\n",
        "\n",
        "x.grad.zero_()  # Reset the gradient\n",
        "y = x.sum()\n",
        "y.backward()\n",
        "x.grad\n",
        "\n",
        "x.grad.zero_()\n",
        "y = x * x\n",
        "y.backward(gradient=torch.ones(len(y)))  # Faster: y.sum().backward()\n",
        "x.grad\n",
        "\n",
        "x.grad.zero_()\n",
        "y = x * x\n",
        "u = y.detach()\n",
        "z = u * x\n",
        "\n",
        "z.sum().backward()\n",
        "x.grad == u\n",
        "\n",
        "\n",
        "x.grad.zero_()\n",
        "y.sum().backward()\n",
        "x.grad == 2 * x\n",
        "\n",
        "def f(a):\n",
        "    b = a * 2\n",
        "    while b.norm() < 1000:\n",
        "        b = b * 2\n",
        "    if b.sum() > 0:\n",
        "        c = b\n",
        "    else:\n",
        "        c = 100 * b\n",
        "    return c\n",
        "\n",
        "a = torch.randn(size=(), requires_grad=True)\n",
        "d = f(a)\n",
        "d.backward()\n",
        "\n",
        "\n",
        "a.grad == d / a"
      ],
      "metadata": {
        "colab": {
          "base_uri": "https://localhost:8080/"
        },
        "id": "VQ6hvkNAI9wb",
        "outputId": "df9a7723-685a-458b-81c5-c6cf07b156c8"
      },
      "execution_count": 137,
      "outputs": [
        {
          "output_type": "execute_result",
          "data": {
            "text/plain": [
              "tensor(True)"
            ]
          },
          "metadata": {},
          "execution_count": 137
        }
      ]
    },
    {
      "cell_type": "markdown",
      "source": [
        "1. Why is the second derivative much more expensive to compute than the first derivative?\n",
        "Calculating the second derivative involves more complex calculations, such as differencing the first derivative twice. These additional calculations require more computational resources.\n",
        "\n",
        "2. After running the function for backpropagation, immediately run it again and see what happens. Investigate.\n",
        "I receive an error.\n",
        "\n",
        "RuntimeError: Trying to backward through the graph a second time (or directly access saved tensors after they have already been freed). Saved intermediate values of the graph are freed when you call .backward() or autograd.grad(). Specify retain_graph=True if you need to backward through the graph a second time or if you need to access saved tensors after calling backward.\n"
      ],
      "metadata": {
        "id": "GPnWXjAQIeco"
      }
    },
    {
      "cell_type": "code",
      "source": [
        "y = 2 * torch.dot(x, x)\n",
        "y\n",
        "y.backward()\n",
        "y.backward()\n",
        "\n"
      ],
      "metadata": {
        "colab": {
          "base_uri": "https://localhost:8080/",
          "height": 443
        },
        "id": "Zvq2rXwyPczT",
        "outputId": "6e958bcc-ee25-48d6-cbce-b1796ca68058"
      },
      "execution_count": 140,
      "outputs": [
        {
          "output_type": "error",
          "ename": "RuntimeError",
          "evalue": "Trying to backward through the graph a second time (or directly access saved tensors after they have already been freed). Saved intermediate values of the graph are freed when you call .backward() or autograd.grad(). Specify retain_graph=True if you need to backward through the graph a second time or if you need to access saved tensors after calling backward.",
          "traceback": [
            "\u001b[0;31m---------------------------------------------------------------------------\u001b[0m",
            "\u001b[0;31mRuntimeError\u001b[0m                              Traceback (most recent call last)",
            "\u001b[0;32m<ipython-input-140-cd1ecf442b0b>\u001b[0m in \u001b[0;36m<cell line: 4>\u001b[0;34m()\u001b[0m\n\u001b[1;32m      2\u001b[0m \u001b[0my\u001b[0m\u001b[0;34m\u001b[0m\u001b[0;34m\u001b[0m\u001b[0m\n\u001b[1;32m      3\u001b[0m \u001b[0my\u001b[0m\u001b[0;34m.\u001b[0m\u001b[0mbackward\u001b[0m\u001b[0;34m(\u001b[0m\u001b[0;34m)\u001b[0m\u001b[0;34m\u001b[0m\u001b[0;34m\u001b[0m\u001b[0m\n\u001b[0;32m----> 4\u001b[0;31m \u001b[0my\u001b[0m\u001b[0;34m.\u001b[0m\u001b[0mbackward\u001b[0m\u001b[0;34m(\u001b[0m\u001b[0;34m)\u001b[0m\u001b[0;34m\u001b[0m\u001b[0;34m\u001b[0m\u001b[0m\n\u001b[0m\u001b[1;32m      5\u001b[0m \u001b[0;34m\u001b[0m\u001b[0m\n",
            "\u001b[0;32m/usr/local/lib/python3.10/dist-packages/torch/_tensor.py\u001b[0m in \u001b[0;36mbackward\u001b[0;34m(self, gradient, retain_graph, create_graph, inputs)\u001b[0m\n\u001b[1;32m    490\u001b[0m                 \u001b[0minputs\u001b[0m\u001b[0;34m=\u001b[0m\u001b[0minputs\u001b[0m\u001b[0;34m,\u001b[0m\u001b[0;34m\u001b[0m\u001b[0;34m\u001b[0m\u001b[0m\n\u001b[1;32m    491\u001b[0m             )\n\u001b[0;32m--> 492\u001b[0;31m         torch.autograd.backward(\n\u001b[0m\u001b[1;32m    493\u001b[0m             \u001b[0mself\u001b[0m\u001b[0;34m,\u001b[0m \u001b[0mgradient\u001b[0m\u001b[0;34m,\u001b[0m \u001b[0mretain_graph\u001b[0m\u001b[0;34m,\u001b[0m \u001b[0mcreate_graph\u001b[0m\u001b[0;34m,\u001b[0m \u001b[0minputs\u001b[0m\u001b[0;34m=\u001b[0m\u001b[0minputs\u001b[0m\u001b[0;34m\u001b[0m\u001b[0;34m\u001b[0m\u001b[0m\n\u001b[1;32m    494\u001b[0m         )\n",
            "\u001b[0;32m/usr/local/lib/python3.10/dist-packages/torch/autograd/__init__.py\u001b[0m in \u001b[0;36mbackward\u001b[0;34m(tensors, grad_tensors, retain_graph, create_graph, grad_variables, inputs)\u001b[0m\n\u001b[1;32m    249\u001b[0m     \u001b[0;31m# some Python versions print out the first line of a multi-line function\u001b[0m\u001b[0;34m\u001b[0m\u001b[0;34m\u001b[0m\u001b[0m\n\u001b[1;32m    250\u001b[0m     \u001b[0;31m# calls in the traceback and some print out the last line\u001b[0m\u001b[0;34m\u001b[0m\u001b[0;34m\u001b[0m\u001b[0m\n\u001b[0;32m--> 251\u001b[0;31m     Variable._execution_engine.run_backward(  # Calls into the C++ engine to run the backward pass\n\u001b[0m\u001b[1;32m    252\u001b[0m         \u001b[0mtensors\u001b[0m\u001b[0;34m,\u001b[0m\u001b[0;34m\u001b[0m\u001b[0;34m\u001b[0m\u001b[0m\n\u001b[1;32m    253\u001b[0m         \u001b[0mgrad_tensors_\u001b[0m\u001b[0;34m,\u001b[0m\u001b[0;34m\u001b[0m\u001b[0;34m\u001b[0m\u001b[0m\n",
            "\u001b[0;31mRuntimeError\u001b[0m: Trying to backward through the graph a second time (or directly access saved tensors after they have already been freed). Saved intermediate values of the graph are freed when you call .backward() or autograd.grad(). Specify retain_graph=True if you need to backward through the graph a second time or if you need to access saved tensors after calling backward."
          ]
        }
      ]
    },
    {
      "cell_type": "markdown",
      "source": [
        "\n",
        "3. In the control flow example where we calculate the derivative of d with respect to a, what would happen if we changed the variable a to a random vector or a matrix? At this point, the result of the calculation f(a) is no longer a scalar. What happens to the result? How do we analyze this?\n",
        "\n",
        "There would be shape mismatch as a with respect to the x which we are taking the derivative with respect to is no longer a scalara nd there is a gradient or jacobian matrix.\n",
        "\n",
        "to anlayze this situation we need to address the dimension and understand the relationships between a and d and the derivatives. The relationship between the two. The sensitivity of each element in the output needs to be considered to use deep learning\n",
        "\n",
        "4. Let f(x)=sinx. Plot the graph of f and of its derivative f'. Do not exploit the fact that f'(x)=cos(x)\n",
        " but rather use automatic differentiation to get the result.\n"
      ],
      "metadata": {
        "id": "i_g5lO6wQ2-m"
      }
    },
    {
      "cell_type": "code",
      "source": [
        "import torch\n",
        "import matplotlib.pyplot as plt\n",
        "\n",
        "# Define the input values (x)\n",
        "x = torch.linspace(-2 * 3.1416, 2 * 3.1416, 100)\n",
        "x.requires_grad_(True)  # Enable gradient tracking for x\n",
        "\n",
        "# Define the function f(x) = sin(x)\n",
        "f_x = torch.sin(x)\n",
        "\n",
        "# Calculate the derivative of f(x) using automatic differentiation\n",
        "f_x.backward(torch.ones_like(x))\n",
        "f_prime_x = x.grad\n",
        "\n",
        "# Plot the function f(x) and its derivative f'(x)\n",
        "plt.figure(figsize=(10, 5))\n",
        "plt.subplot(2, 1, 1)\n",
        "plt.plot(x.detach().numpy(), f_x.detach().numpy(), label='f(x) = sin(x)')\n",
        "plt.title('Function f(x) = sin(x)')\n",
        "plt.xlabel('x')\n",
        "plt.ylabel('f(x)')\n",
        "plt.grid(True)\n",
        "\n",
        "plt.subplot(2, 1, 2)\n",
        "plt.plot(x.detach().numpy(), f_prime_x.detach().numpy(), label=\"f'(x)\")\n",
        "plt.title(\"Derivative f'(x)\")\n",
        "plt.xlabel('x')\n",
        "plt.ylabel(\"f'(x)\")\n",
        "plt.grid(True)\n",
        "\n",
        "plt.tight_layout()\n",
        "plt.show()\n"
      ],
      "metadata": {
        "colab": {
          "base_uri": "https://localhost:8080/",
          "height": 507
        },
        "id": "L-JiDdEhQ2N0",
        "outputId": "76f64356-ced7-4e8d-8756-73996b22a5d6"
      },
      "execution_count": 141,
      "outputs": [
        {
          "output_type": "display_data",
          "data": {
            "text/plain": [
              "<Figure size 1000x500 with 2 Axes>"
            ],
            "image/png": "[encoded data removed]"
          },
          "metadata": {}
        }
      ]
    },
    {
      "cell_type": "markdown",
      "source": [
        "\n",
        "5. Let f(x) = ((logx^2)sinx)+x^-1. Write out a dependency graph tracing results from x to f(x).\n",
        "\n",
        "*  x (Input)\n",
        "*   x^2 (Calculation from x)\n",
        "* log(x^2) (Calculation from x^2)\n",
        "* sin(x) (Calculation from x)\n",
        "* (log(x^2) * sin(x)) (Result of multiplying 3 and 4)\n",
        "* x^(-1) (Calculation from x)\n",
        "* f(x) = (log(x^2) * sin(x)) + x^(-1) (Final result)\n",
        "\n",
        "6. Use the chain rule to compute the derivative df/dx\n",
        "\n",
        " of the aforementioned function, placing each term on the dependency graph that you constructed previously.\n",
        "\n",
        "df/dx = df/d(7) * d(7)/d(5) * d(5)/d(4) * d(4)/d(3) * d(3)/d(2) * d(2)/d(1)\n",
        "\n",
        "df/d(7): The derivative of f(x) with respect to itself is 1.\n",
        "\n",
        "d(7)/d(5): The derivative of f(x) with respect to (log(x^2) * sin(x)) is 1.\n",
        "\n",
        "d(5)/d(4): The derivative of (log(x^2) * sin(x)) with respect to sin(x) is log(x^2).\n",
        "\n",
        "d(4)/d(3): The derivative of sin(x) with respect to log(x^2) is sin(x).\n",
        "\n",
        "d(3)/d(2): The derivative of log(x^2) with respect to x^2 is 1 / x^2.\n",
        "\n",
        "d(2)/d(1): The derivative of x^2 with respect to x is 2x.\n",
        "\n",
        "Finally , df/dx=2*sin(x)/x\n",
        "\n",
        "\n",
        "7. Given the graph and the intermediate derivative results, you have a number of options when computing the gradient. Evaluate the result once starting from x\n",
        " to f\n",
        " and once from f\n",
        " tracing back to x\n",
        ". The path from x\n",
        " to f\n",
        " is commonly known as forward differentiation, whereas the path from f\n",
        " to x\n",
        " is known as backward differentiation.\n",
        "\n",
        " forward df/dx = -16 * cos(x) * log(x) / x^3\n",
        "\n",
        "backward dx/df = -x^3 / (16 * cos(x) * log(x))\n",
        "\n",
        "8. When might you want to use forward, and when backward, differentiation? Hint: consider the amount of intermediate data needed, the ability to parallelize steps, and the size of matrices and vectors involved.\n",
        "\n",
        "Forward would be good for  when we want less memory intensive computations  and the input data is smaller in size. Backward would be good when we are implementing deep learning models with numerous parameters and layers, working with large datasets and complex neural netowrk acchirectures."
      ],
      "metadata": {
        "id": "GrDsNDZ3IefO"
      }
    },
    {
      "cell_type": "markdown",
      "source": [
        "# 2.6 Probability and Statistics"
      ],
      "metadata": {
        "id": "D7MfB4vnIehT"
      }
    },
    {
      "cell_type": "markdown",
      "source": [
        "1. Give an example where observing more data can reduce the amount of uncertainty about the outcome to an arbitrarily low level.\n",
        "\n",
        "The estimation of the likelihood of a coin.\n",
        "\n",
        "2. Give an example where observing more data will only reduce the amount of uncertainty up to a point and then no further. Explain why this is the case and where you expect this point to occur.\n",
        "\n",
        "Estimating the gender ration in a population.\n",
        "\n",
        "3. We empirically demonstrated convergence to the mean for the toss of a coin. Calculate the variance of the estimate of the probability that we see a head after drawing\n",
        " samples.\n",
        "\n",
        "Variance = np(1 - p) = n * (0.5) * (1 - 0.5) = n * 0.25\n",
        "\n",
        "How does the variance scale with the number of observations?\n",
        "\n",
        "It scales linearly with the number of observations, n, so our variance increases with the number of coin tosses.\n",
        "\n",
        "Use Chebyshev’s inequality to bound the deviation from the expectation.\n",
        "\n",
        "It provides an upper bound on the probability of deviations from the expected outcome as any random variable will deviate at most 1/(k^2)\n",
        "\n",
        "How does it relate to the central limit theorem?\n",
        "\n",
        "CLT states that the distribution of the sum or average of a large number of random variables approach a normal distribution. In our case the variance of the sample mean will decreases as 1/n.\n",
        "\n",
        "\n",
        "4. Assume that we draw m\n",
        " samples xi\n",
        " from a probability distribution with zero mean and unit variance. Compute the averages zm=m^-1 ∑m i=1 xi.\n",
        ". Can we apply Chebyshev’s inequality for every\n",
        " independently? Why not?\n",
        "\n",
        "It is not directly applicable fo each individual xi independantly beacuse it does not account for the average of mulitiple random variables together.\n",
        "\n",
        "5. Given two events with probability P(A)\n",
        " and P(B)\n",
        ", compute upper and lower bounds on P(A∪B)\n",
        " and P(A∩B)\n",
        ". Hint: graph the situation using a Venn diagram.\n",
        "\n",
        "upper for P(A∪B) where a and b are mutually exclusive so ≤ P(A) + P(B)\n",
        "lower for P(A∪B)≥ max(P(A), P(B))\n",
        "\n",
        "upper for P(A∩B)≤ 0\n",
        "lower for P(A∩B) ≥ min(P(A), P(B))\n",
        "\n",
        "\n",
        "6.  Assume that we have a sequence of random variables, say A\n",
        ", b\n",
        ", and c  \n",
        ", where b\n",
        " only depends on a\n",
        ", and c\n",
        " only depends on b\n",
        ", can you simplify the joint probability P(a,b,c)\n",
        "? Hint: this is a Markov chain.\n",
        "\n",
        "P(A, B, C) = P(C | B) * P(B | A) * P(A)\n",
        "\n",
        "7. In Section 2.6.5, assume that the outcomes of the two tests are not independent. In particular assume that either test on its own has a false positive rate of 10% and a false negative rate of 1%. That is, assume that P(D=1 | H=0 )= 0.1\n",
        " and that P(D=0 | H=1 )= 0.01\n",
        ". Moreover, assume that for H=1\n",
        " (infected) the test outcomes are conditionally independent, i.e., that P(D1,D2 | H=1)=P((D1|H=1)P(D2|H=1)\n",
        " but that for healthy patients the outcomes are coupled via P(D1=D2|H=0)=0.02\n",
        ".\n",
        "\n",
        "Work out the joint probability table for\n",
        " and\n",
        ", given\n",
        " based on the information you have so far.\n",
        "\n",
        "Derive the probability that the patient is diseased (H=1\n",
        ") after one test returns positive. You can assume the same baseline probability P(H=1)=0.0015\n",
        " as before.\n",
        "\n",
        "Derive the probability that the patient is diseased (H=1\n",
        ") after both tests return positive.\n",
        "\n",
        "10% fp for t1\n",
        "10% fp for t2\n",
        "\n",
        "1% fn for t1\n",
        "1% fn for t2\n",
        "\n",
        "\n",
        "2% fp for healthy patients\n",
        "\n",
        "P(D1=0, D2=0 | H=0) =0.81\n",
        "\n",
        "P(D1=0, D2=1 | H=0) =0.09\n",
        "\n",
        "P(D1=1, D2=1 | H=0) = 0.01\n",
        "\n",
        "P(D1=0, D2=0 | H=1) =0.99\n",
        "\n",
        "P(D1=0, D2=1 | H=1) = 0.001\n",
        "P(D1=1, D2=0 | H=1) = 0.001\n",
        "\n",
        "P(D1=1, D2=1 | H=1) = 0.0\n",
        "\n",
        "Probability that the patient is diseased after one test returns positive (H=1 | D1=1 or D2=1):0.01485\n",
        "\n",
        "Probability that the patient is diseased after both tests return positive (H=1 | D1=1 and D2=1):0.01338\n",
        "\n",
        "8. Assume that you are an asset manager for an investment bank and you have a choice of stocks\n",
        " to invest in. Your portfolio needs to add up to\n",
        " with weights\n",
        " for each stock. The stocks have an average return mu=Es~p[s]\n",
        " and covariance ∑=Covs~p[s]\n",
        ".\n",
        "\n",
        "Compute the expected return for a given portfolio alpha.\n",
        "\n",
        "E[R] = Σ(w_i * mu_i)\n",
        "\n",
        "If you wanted to maximize the return of the portfolio, how should you choose your investment?\n",
        "\n",
        "Compute the variance of the portfolio.\n",
        "\n",
        "Var[R] = Σ(Σ(w_i * w_j * Cov(s_i, s_j)))\n",
        "\n",
        "Formulate an optimization problem of maximizing the return while keeping the variance constrained to an upper bound. This is the Nobel-Prize winning Markovitz portfolio (Mangram, 2013). To solve it you will need a quadratic programming solver, something way beyond the scope of this book.\n",
        "\n",
        "We want to maximize E[R] = Σ(w_i * mu_i) while  Σ(Σ(w_i * w_j * Cov(s_i, s_j)))\n",
        "\n"
      ],
      "metadata": {
        "id": "WdseYKaiIejk"
      }
    },
    {
      "cell_type": "markdown",
      "source": [
        "# 2.7 Documentation"
      ],
      "metadata": {
        "id": "1WGHUUl2IoFg"
      }
    },
    {
      "cell_type": "code",
      "source": [
        "import torch\n",
        "\n",
        "print(dir(torch.distributions))\n",
        "\n",
        "help(torch.ones)\n",
        "\n",
        "torch.ones(4)"
      ],
      "metadata": {
        "colab": {
          "base_uri": "https://localhost:8080/"
        },
        "id": "T8nrA4C9IoXX",
        "outputId": "c3f0a673-129d-4288-e9a0-89cc2da336ca"
      },
      "execution_count": 136,
      "outputs": [
        {
          "output_type": "stream",
          "name": "stdout",
          "text": [
            "['AbsTransform', 'AffineTransform', 'Bernoulli', 'Beta', 'Binomial', 'CatTransform', 'Categorical', 'Cauchy', 'Chi2', 'ComposeTransform', 'ContinuousBernoulli', 'CorrCholeskyTransform', 'CumulativeDistributionTransform', 'Dirichlet', 'Distribution', 'ExpTransform', 'Exponential', 'ExponentialFamily', 'FisherSnedecor', 'Gamma', 'Geometric', 'Gumbel', 'HalfCauchy', 'HalfNormal', 'Independent', 'IndependentTransform', 'Kumaraswamy', 'LKJCholesky', 'Laplace', 'LogNormal', 'LogisticNormal', 'LowRankMultivariateNormal', 'LowerCholeskyTransform', 'MixtureSameFamily', 'Multinomial', 'MultivariateNormal', 'NegativeBinomial', 'Normal', 'OneHotCategorical', 'OneHotCategoricalStraightThrough', 'Pareto', 'Poisson', 'PositiveDefiniteTransform', 'PowerTransform', 'RelaxedBernoulli', 'RelaxedOneHotCategorical', 'ReshapeTransform', 'SigmoidTransform', 'SoftmaxTransform', 'SoftplusTransform', 'StackTransform', 'StickBreakingTransform', 'StudentT', 'TanhTransform', 'Transform', 'TransformedDistribution', 'Uniform', 'VonMises', 'Weibull', 'Wishart', '__all__', '__builtins__', '__cached__', '__doc__', '__file__', '__loader__', '__name__', '__package__', '__path__', '__spec__', 'bernoulli', 'beta', 'biject_to', 'binomial', 'categorical', 'cauchy', 'chi2', 'constraint_registry', 'constraints', 'continuous_bernoulli', 'dirichlet', 'distribution', 'exp_family', 'exponential', 'fishersnedecor', 'gamma', 'geometric', 'gumbel', 'half_cauchy', 'half_normal', 'identity_transform', 'independent', 'kl', 'kl_divergence', 'kumaraswamy', 'laplace', 'lkj_cholesky', 'log_normal', 'logistic_normal', 'lowrank_multivariate_normal', 'mixture_same_family', 'multinomial', 'multivariate_normal', 'negative_binomial', 'normal', 'one_hot_categorical', 'pareto', 'poisson', 'register_kl', 'relaxed_bernoulli', 'relaxed_categorical', 'studentT', 'transform_to', 'transformed_distribution', 'transforms', 'uniform', 'utils', 'von_mises', 'weibull', 'wishart']\n",
            "Help on built-in function ones in module torch:\n",
            "\n",
            "ones(...)\n",
            "    ones(*size, *, out=None, dtype=None, layout=torch.strided, device=None, requires_grad=False) -> Tensor\n",
            "    \n",
            "    Returns a tensor filled with the scalar value `1`, with the shape defined\n",
            "    by the variable argument :attr:`size`.\n",
            "    \n",
            "    Args:\n",
            "        size (int...): a sequence of integers defining the shape of the output tensor.\n",
            "            Can be a variable number of arguments or a collection like a list or tuple.\n",
            "    \n",
            "    Keyword arguments:\n",
            "        out (Tensor, optional): the output tensor.\n",
            "        dtype (:class:`torch.dtype`, optional): the desired data type of returned tensor.\n",
            "            Default: if ``None``, uses a global default (see :func:`torch.set_default_tensor_type`).\n",
            "        layout (:class:`torch.layout`, optional): the desired layout of returned Tensor.\n",
            "            Default: ``torch.strided``.\n",
            "        device (:class:`torch.device`, optional): the desired device of returned tensor.\n",
            "            Default: if ``None``, uses the current device for the default tensor type\n",
            "            (see :func:`torch.set_default_tensor_type`). :attr:`device` will be the CPU\n",
            "            for CPU tensor types and the current CUDA device for CUDA tensor types.\n",
            "        requires_grad (bool, optional): If autograd should record operations on the\n",
            "            returned tensor. Default: ``False``.\n",
            "    \n",
            "    Example::\n",
            "    \n",
            "        >>> torch.ones(2, 3)\n",
            "        tensor([[ 1.,  1.,  1.],\n",
            "                [ 1.,  1.,  1.]])\n",
            "    \n",
            "        >>> torch.ones(5)\n",
            "        tensor([ 1.,  1.,  1.,  1.,  1.])\n",
            "\n"
          ]
        },
        {
          "output_type": "execute_result",
          "data": {
            "text/plain": [
              "tensor([1., 1., 1., 1.])"
            ]
          },
          "metadata": {},
          "execution_count": 136
        }
      ]
    },
    {
      "cell_type": "markdown",
      "source": [
        "# 22.1  Geometry and Linear Algebraic Operations"
      ],
      "metadata": {
        "id": "nHoN77WyYHar"
      }
    },
    {
      "cell_type": "markdown",
      "source": [
        "1. What is the angle between[1,0,-1,2] and [3,1,0,1]\n",
        "\n",
        "63 degrees\n",
        "\n",
        "2. True or false:  [[1,2],[0,1]] and [[1,-2],[0,1]]\n",
        "\n",
        " are inverses of one another?\n",
        "\n",
        " False\n",
        "\n",
        "3. Suppose that we draw a shape in the plane with area 100m^2\n",
        ". What is the area after transforming the figure by the matrix [[2,3],[1,2]]\n",
        "\n",
        "Area after transformation = |Determinant of the matrix| * Original area = 1 * 100 m^2 = 100 m^2\n",
        "\n",
        "\n",
        "4. Which of the following sets of vectors are linearly independent?\n",
        "\n",
        " only set 1\n",
        "\n",
        "5. Suppose that you have a matrix written as  \n",
        "  \n",
        " A= [c,d]*[[a, b]]\n",
        " for some choice of values\n",
        ", and\n",
        ". True or false: the determinant of such a matrix is always\n",
        "?\n",
        "\n",
        "False\n",
        "\n",
        "6. The vectors  \n",
        "\n",
        " and  \n",
        "\n",
        " are orthogonal. What is the condition on a matrix\n",
        " so that\n",
        " and\n",
        " are orthogonal?\n",
        "\n",
        " ab+cd must be zero\n",
        "\n",
        "7. How can you write tr(A^4)\n",
        " in Einstein notation for an arbitrary matrix\n",
        "?\n",
        "\n",
        "tr(A^4) = A^{ij}A^{jk}A^{kl}A^{li}"
      ],
      "metadata": {
        "id": "TCaPt9YWYYAp"
      }
    },
    {
      "cell_type": "markdown",
      "source": [
        "\n",
        "# 22.2. Eigendecompositions\n",
        "\n",
        "1. 3 and 1\n",
        "[0.7071 ,0.7071] and [-0.7071 ,0.7071]\n",
        "\n",
        "2. both are 2. It is defective. and the vector is [1,0]\n",
        "\n",
        "3. by looking at the diagonal elements of the matrix, we can assuem that it is not possible for the smalles evalue to be less than 0.5 because 1.0 which is a diagonal element is greater than 0.5."
      ],
      "metadata": {
        "id": "tKIAowlDaBpj"
      }
    },
    {
      "cell_type": "markdown",
      "source": [
        "\n",
        "# 22.3. Single Variable  Calculus\n",
        "\n",
        "1. 3x^2 -4\n",
        "\n",
        "2. -(1/x)\n",
        "\n",
        "3. True\n",
        "\n",
        "4. x= 1/e"
      ],
      "metadata": {
        "id": "_rxGVffWbauz"
      }
    },
    {
      "cell_type": "markdown",
      "source": [
        "\n",
        "# 22.4. Multivariable Calculus\n",
        "\n",
        "1. Essentially the same operation by the commutatitve propertiy so they the derivatives are the same\n",
        "\n",
        "2. 2v.\n",
        "\n",
        "3. [e^x/(e^x+e^y) , e^y/(e^x+e^y)], 1\n",
        "\n",
        "4. taking the partial of x and y respectively then setting both equal to zero, we see that the only solution is 0,0. Therefore 0,0 is the only critical point.\n",
        "\n",
        "5. gradients of g and h point opposite directions and have the same magnitude at min f. The flat spot comes from the opposite actions of g and h"
      ],
      "metadata": {
        "id": "ZFm0qn6OcJFr"
      }
    },
    {
      "cell_type": "markdown",
      "source": [
        "\n",
        "# 22.5. IntegralCalculus\n",
        "\n",
        "1. log2\n",
        "\n",
        "2. 1/2  ∫sin(u)du from 0 to pi\n",
        "\n",
        "3.  ∫0 to 1  ∫0 to 2 xy dx dy =1\n",
        "\n",
        "4. the first gives us 1/5, the latter is -1/20. This happens because the function is not continuous everywhere for [0,2][0,1]"
      ],
      "metadata": {
        "id": "j2pr8at3cJYA"
      }
    },
    {
      "cell_type": "markdown",
      "source": [
        "\n",
        "# 22.6. Random Variables\n",
        "\n",
        "1. 1/2\n",
        "\n",
        "2. 2\n",
        "\n",
        "3. witha  a zscore of 9 at 4. Unlikely to be true because the probability of a value to be 4 std away from the mean is really low.\n",
        "\n",
        "4. 0"
      ],
      "metadata": {
        "id": "7RcTEMpJcMev"
      }
    },
    {
      "cell_type": "markdown",
      "source": [
        "\n",
        "# 22.8. Distributions\n",
        "\n",
        "1. (8)^1/2\n",
        "\n",
        "2. If we imagine poisson distribution as a sum of a lot of small poisson processes, it can be imagained that it approaches a gaussian as the parameter gets larger\n",
        "\n",
        "3. The pmf for the sum of 2 discrete unifrom random variableds on n elements si convolving the pmfs of each of the distributions.\n"
      ],
      "metadata": {
        "id": "Du4wehNHcMs9"
      }
    }
  ]
}